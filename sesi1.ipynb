{
 "cells": [
  {
   "cell_type": "code",
   "execution_count": 1,
   "metadata": {},
   "outputs": [
    {
     "name": "stdout",
     "output_type": "stream",
     "text": [
      "hello\n"
     ]
    }
   ],
   "source": [
    "print(\"hello\")"
   ]
  },
  {
   "cell_type": "markdown",
   "metadata": {},
   "source": [
    "# ini sesi 1"
   ]
  },
  {
   "cell_type": "raw",
   "metadata": {},
   "source": [
    "abcd"
   ]
  },
  {
   "cell_type": "markdown",
   "metadata": {},
   "source": [
    "# Tipe data di Python\n",
    "\n",
    "- Integer (int)\n",
    "- Floating-Point Numbers (float)\n",
    "- String (str)\n",
    "- Boolean (bool)"
   ]
  },
  {
   "cell_type": "code",
   "execution_count": 2,
   "metadata": {},
   "outputs": [
    {
     "name": "stdout",
     "output_type": "stream",
     "text": [
      "1287465\n",
      "<class 'int'>\n"
     ]
    }
   ],
   "source": [
    "print(1287465)\n",
    "print(type(3543684365))"
   ]
  },
  {
   "cell_type": "code",
   "execution_count": 3,
   "metadata": {},
   "outputs": [
    {
     "name": "stdout",
     "output_type": "stream",
     "text": [
      "12.5\n",
      "<class 'float'>\n",
      "0.0125\n"
     ]
    }
   ],
   "source": [
    "print(12.5)\n",
    "print(type(12.5))\n",
    "print(12.5e-3) #nulis 12.5 * 10^-3 notasi ilmiah"
   ]
  },
  {
   "cell_type": "code",
   "execution_count": 4,
   "metadata": {},
   "outputs": [
    {
     "name": "stdout",
     "output_type": "stream",
     "text": [
      "Hacktiv8 python's first class..\n",
      "<class 'str'>\n"
     ]
    }
   ],
   "source": [
    "print(\"Hacktiv8 python's first class..\")\n",
    "print(type(\"hello\"))"
   ]
  },
  {
   "cell_type": "code",
   "execution_count": 5,
   "metadata": {},
   "outputs": [
    {
     "name": "stdout",
     "output_type": "stream",
     "text": [
      "True\n",
      "<class 'bool'>\n",
      "<class 'bool'>\n"
     ]
    }
   ],
   "source": [
    "print(True)\n",
    "print(type(True))\n",
    "print(type(False))"
   ]
  },
  {
   "cell_type": "markdown",
   "metadata": {},
   "source": [
    "# Pembuatan Variable"
   ]
  },
  {
   "cell_type": "code",
   "execution_count": 6,
   "metadata": {},
   "outputs": [],
   "source": [
    "message = \"Hacktiv8 python's first class..\"\n",
    "sesi = 1\n",
    "kelas = \"Python 061\""
   ]
  },
  {
   "cell_type": "code",
   "execution_count": 7,
   "metadata": {},
   "outputs": [
    {
     "name": "stdout",
     "output_type": "stream",
     "text": [
      "Hacktiv8 python's first class..\n"
     ]
    }
   ],
   "source": [
    "print(message)"
   ]
  },
  {
   "cell_type": "code",
   "execution_count": 8,
   "metadata": {},
   "outputs": [
    {
     "name": "stdout",
     "output_type": "stream",
     "text": [
      "1\n"
     ]
    }
   ],
   "source": [
    "print(sesi)"
   ]
  },
  {
   "cell_type": "code",
   "execution_count": 9,
   "metadata": {},
   "outputs": [
    {
     "name": "stdout",
     "output_type": "stream",
     "text": [
      "2\n"
     ]
    }
   ],
   "source": [
    "sesi = sesi + 1\n",
    "print(sesi)"
   ]
  },
  {
   "cell_type": "code",
   "execution_count": 10,
   "metadata": {},
   "outputs": [
    {
     "name": "stdout",
     "output_type": "stream",
     "text": [
      "2\n"
     ]
    }
   ],
   "source": [
    "print(sesi)"
   ]
  },
  {
   "cell_type": "code",
   "execution_count": 11,
   "metadata": {},
   "outputs": [],
   "source": [
    "a = b = c = 102"
   ]
  },
  {
   "cell_type": "code",
   "execution_count": 12,
   "metadata": {},
   "outputs": [
    {
     "name": "stdout",
     "output_type": "stream",
     "text": [
      "102\n"
     ]
    }
   ],
   "source": [
    "print(a)"
   ]
  },
  {
   "cell_type": "code",
   "execution_count": 13,
   "metadata": {},
   "outputs": [
    {
     "name": "stdout",
     "output_type": "stream",
     "text": [
      "102\n"
     ]
    }
   ],
   "source": [
    "print(b)"
   ]
  },
  {
   "cell_type": "code",
   "execution_count": 14,
   "metadata": {},
   "outputs": [
    {
     "name": "stdout",
     "output_type": "stream",
     "text": [
      "102\n"
     ]
    }
   ],
   "source": [
    "print(c)"
   ]
  },
  {
   "cell_type": "code",
   "execution_count": 15,
   "metadata": {},
   "outputs": [
    {
     "name": "stdout",
     "output_type": "stream",
     "text": [
      "Hacktiv8 python's first class.. 2 Python 061 102 102 102\n"
     ]
    }
   ],
   "source": [
    "print(message, sesi, kelas, a, b, c)"
   ]
  },
  {
   "cell_type": "code",
   "execution_count": 16,
   "metadata": {},
   "outputs": [],
   "source": [
    "a = \"halo\""
   ]
  },
  {
   "cell_type": "code",
   "execution_count": 17,
   "metadata": {},
   "outputs": [
    {
     "name": "stdout",
     "output_type": "stream",
     "text": [
      "halo\n"
     ]
    }
   ],
   "source": [
    "print(a)"
   ]
  },
  {
   "cell_type": "markdown",
   "metadata": {},
   "source": [
    "## cara menamai variable\n",
    "- snake_case: untuk menamai variable\n",
    "\n",
    "huruf kecil semua, spasi digantikan _ underscore\n",
    "\n",
    "- camelCase: untuk menamai functions\n",
    "\n",
    "huruf kecil semua, kecuali kata berikutnya huruf pertama dibuat kapital, tanpa spasi\n",
    "\n",
    "- PascalCase\n",
    "\n",
    "setiap kata huruf pertama kapital, tanpa spasi"
   ]
  },
  {
   "cell_type": "markdown",
   "metadata": {},
   "source": [
    "# Operator and Expressions in Python\n",
    "\n",
    "## operator matematika\n",
    "`+ - * / % **`\n",
    "\n",
    "## operator komparasi\n",
    "- == sama atau tidak?\n",
    "- != tidak sama\n",
    "- <= lebih kecil atau sama dengan\n",
    "- \\>= lebih besar atau sama dengan"
   ]
  },
  {
   "cell_type": "code",
   "execution_count": 18,
   "metadata": {},
   "outputs": [
    {
     "name": "stdout",
     "output_type": "stream",
     "text": [
      "30\n"
     ]
    }
   ],
   "source": [
    "a = 10\n",
    "b = 20\n",
    "c = a + b\n",
    "\n",
    "print(c)"
   ]
  },
  {
   "cell_type": "code",
   "execution_count": 19,
   "metadata": {},
   "outputs": [
    {
     "name": "stdout",
     "output_type": "stream",
     "text": [
      "30\n",
      "-10\n",
      "200\n",
      "0.5\n"
     ]
    }
   ],
   "source": [
    "print(a + b)\n",
    "print(a - b)\n",
    "print(a * b)\n",
    "print(a / b)"
   ]
  },
  {
   "cell_type": "code",
   "execution_count": 25,
   "metadata": {},
   "outputs": [
    {
     "name": "stdout",
     "output_type": "stream",
     "text": [
      "10\n",
      "1\n",
      "2\n",
      "3\n"
     ]
    }
   ],
   "source": [
    "# modulo, pembagian yang disimpan sisanya saja\n",
    "print(a % b)\n",
    "print(5 % 2) # sering digunakan untuk cek angka ganjil/genap\n",
    "print(20 % 3)\n",
    "print(8 % 5)"
   ]
  },
  {
   "cell_type": "code",
   "execution_count": 22,
   "metadata": {},
   "outputs": [
    {
     "name": "stdout",
     "output_type": "stream",
     "text": [
      "100000000000000000000\n",
      "25\n"
     ]
    }
   ],
   "source": [
    "# pangkat\n",
    "print(a ** b)\n",
    "print(5 ** 2)"
   ]
  },
  {
   "cell_type": "code",
   "execution_count": 27,
   "metadata": {},
   "outputs": [
    {
     "name": "stdout",
     "output_type": "stream",
     "text": [
      "False\n",
      "True\n",
      "False\n",
      "True\n",
      "False\n",
      "True\n"
     ]
    }
   ],
   "source": [
    "print(a == b)\n",
    "print(a != b)\n",
    "print(a >= b)\n",
    "print(a <= b)\n",
    "print(a > b)\n",
    "print(a < b)"
   ]
  },
  {
   "cell_type": "markdown",
   "metadata": {},
   "source": [
    "## String dimanipulasi"
   ]
  },
  {
   "cell_type": "code",
   "execution_count": 30,
   "metadata": {},
   "outputs": [],
   "source": [
    "s = \"halo\"\n",
    "b = \"bandung\""
   ]
  },
  {
   "cell_type": "code",
   "execution_count": 31,
   "metadata": {},
   "outputs": [
    {
     "name": "stdout",
     "output_type": "stream",
     "text": [
      "halo\n"
     ]
    }
   ],
   "source": [
    "print(s)"
   ]
  },
  {
   "cell_type": "code",
   "execution_count": 33,
   "metadata": {},
   "outputs": [
    {
     "name": "stdout",
     "output_type": "stream",
     "text": [
      "halo halo bandung\n"
     ]
    }
   ],
   "source": [
    "print (s + \" \" + s + \" \" + b)"
   ]
  },
  {
   "cell_type": "code",
   "execution_count": 34,
   "metadata": {},
   "outputs": [
    {
     "name": "stdout",
     "output_type": "stream",
     "text": [
      "halo \n"
     ]
    }
   ],
   "source": [
    "s = s + \" \"\n",
    "print(s)"
   ]
  },
  {
   "cell_type": "code",
   "execution_count": 35,
   "metadata": {},
   "outputs": [
    {
     "name": "stdout",
     "output_type": "stream",
     "text": [
      "halo halo \n"
     ]
    }
   ],
   "source": [
    "print(s * 2)"
   ]
  },
  {
   "cell_type": "code",
   "execution_count": 36,
   "metadata": {},
   "outputs": [
    {
     "name": "stdout",
     "output_type": "stream",
     "text": [
      "halo halo bandung\n"
     ]
    }
   ],
   "source": [
    "print(s * 2 + b)"
   ]
  },
  {
   "cell_type": "code",
   "execution_count": 38,
   "metadata": {},
   "outputs": [
    {
     "name": "stdout",
     "output_type": "stream",
     "text": [
      "halo halo halo halo halo halo halo halo halo halo halo halo halo halo halo halo halo halo halo halo halo halo halo halo halo halo halo halo halo halo halo halo halo halo halo halo halo halo halo halo halo halo halo halo halo halo halo halo halo halo halo halo halo halo halo halo halo halo halo halo halo halo halo halo halo halo halo halo halo halo halo halo halo halo halo halo halo halo halo halo halo halo halo halo halo halo halo halo halo halo halo halo halo halo halo halo halo halo halo halo \n"
     ]
    }
   ],
   "source": [
    "num = 100\n",
    "print (s * num)"
   ]
  },
  {
   "cell_type": "code",
   "execution_count": 41,
   "metadata": {},
   "outputs": [
    {
     "name": "stdout",
     "output_type": "stream",
     "text": [
      "halo 100\n",
      "Hacktiv8\n"
     ]
    }
   ],
   "source": [
    "print (s + str(num))\n",
    "print (\"Hacktiv\" + str(8))"
   ]
  },
  {
   "cell_type": "code",
   "execution_count": 43,
   "metadata": {},
   "outputs": [
    {
     "ename": "TypeError",
     "evalue": "can only concatenate str (not \"int\") to str",
     "output_type": "error",
     "traceback": [
      "\u001b[1;31m---------------------------------------------------------------------------\u001b[0m",
      "\u001b[1;31mTypeError\u001b[0m                                 Traceback (most recent call last)",
      "\u001b[1;32m<ipython-input-43-ad283089ee25>\u001b[0m in \u001b[0;36m<module>\u001b[1;34m\u001b[0m\n\u001b[1;32m----> 1\u001b[1;33m \u001b[0mprint\u001b[0m \u001b[1;33m(\u001b[0m\u001b[1;34m\"Hacktiv\"\u001b[0m \u001b[1;33m+\u001b[0m \u001b[1;36m8\u001b[0m\u001b[1;33m)\u001b[0m\u001b[1;33m\u001b[0m\u001b[1;33m\u001b[0m\u001b[0m\n\u001b[0m\u001b[0;32m      2\u001b[0m \u001b[1;31m# error karena string tidak bisa dicampur number\u001b[0m\u001b[1;33m\u001b[0m\u001b[1;33m\u001b[0m\u001b[1;33m\u001b[0m\u001b[0m\n",
      "\u001b[1;31mTypeError\u001b[0m: can only concatenate str (not \"int\") to str"
     ]
    }
   ],
   "source": [
    "print (\"Hacktiv\" + 8) \n",
    "# error karena string tidak bisa dicampur number"
   ]
  },
  {
   "cell_type": "markdown",
   "metadata": {},
   "source": [
    "itu untuk operator string, berikutnya kita pelajari\n",
    "### expression in string\n",
    "jika kita print hasil komparator atau expression, kita akan dapat data bentuk Boolean (True atau False)\n",
    "\n",
    "jika kita print bukan komparator/expression, kita akan dapat raw datanya"
   ]
  },
  {
   "cell_type": "code",
   "execution_count": 44,
   "metadata": {},
   "outputs": [
    {
     "name": "stdout",
     "output_type": "stream",
     "text": [
      "halo halo bandung\n"
     ]
    }
   ],
   "source": [
    "message = s * 2 + b\n",
    "print(message)"
   ]
  },
  {
   "cell_type": "code",
   "execution_count": 45,
   "metadata": {},
   "outputs": [
    {
     "name": "stdout",
     "output_type": "stream",
     "text": [
      "True\n",
      "True\n",
      "True\n"
     ]
    }
   ],
   "source": [
    "print(\"bandung\" in \"halo halo bandung\")\n",
    "print(\"bandung\" in message)\n",
    "print(b in message)"
   ]
  },
  {
   "cell_type": "markdown",
   "metadata": {},
   "source": [
    "### built-in function milik String"
   ]
  },
  {
   "cell_type": "code",
   "execution_count": 49,
   "metadata": {},
   "outputs": [
    {
     "name": "stdout",
     "output_type": "stream",
     "text": [
      "halo HALO Bandung 123\n",
      "Halo halo bandung 123\n",
      "halo halo bandung 123\n",
      "HALO HALO BANDUNG 123\n",
      "HALO halo bANDUNG 123\n",
      "Halo Halo Bandung 123\n"
     ]
    }
   ],
   "source": [
    "message = \"halo HALO Bandung 123\"\n",
    "print(message)\n",
    "print(message.capitalize())\n",
    "print(message.lower())\n",
    "print(message.upper())\n",
    "print(message.swapcase())\n",
    "print(message.title())"
   ]
  },
  {
   "cell_type": "markdown",
   "metadata": {},
   "source": [
    "## Tipe Data List\n",
    "\n",
    "setiap elemen dalam sebuah list punya angka.\n",
    "angkanya urut dan dimulai dari 0.\n",
    "nama angka ini adalah INDEX.\n",
    "INDEX digunakan untuk akses elemen dalam list,\n",
    "bisa juga untuk mengubah elemen di posisi tersebut."
   ]
  },
  {
   "cell_type": "code",
   "execution_count": 54,
   "metadata": {},
   "outputs": [],
   "source": [
    "antrian_indomaret = [\"budi\", \"adi\", \"cindy\", \"ana\"]"
   ]
  },
  {
   "cell_type": "code",
   "execution_count": 55,
   "metadata": {},
   "outputs": [
    {
     "name": "stdout",
     "output_type": "stream",
     "text": [
      "['budi', 'adi', 'cindy', 'ana']\n"
     ]
    }
   ],
   "source": [
    "print(antrian_indomaret)"
   ]
  },
  {
   "cell_type": "code",
   "execution_count": 53,
   "metadata": {},
   "outputs": [],
   "source": [
    "list_campuran = [123, True, [], \"halo?\", 12.78]\n",
    "# tidak direkomen, \n",
    "# biasakan isi dari sebuah list tipe datanya sama semua"
   ]
  },
  {
   "cell_type": "code",
   "execution_count": 56,
   "metadata": {},
   "outputs": [
    {
     "name": "stdout",
     "output_type": "stream",
     "text": [
      "adi\n"
     ]
    }
   ],
   "source": [
    "print(antrian_indomaret[1])"
   ]
  },
  {
   "cell_type": "code",
   "execution_count": 57,
   "metadata": {},
   "outputs": [],
   "source": [
    "antrian_indomaret2 = [\"budi\", \"adi\", \"cindy\", \"ana\"]"
   ]
  },
  {
   "cell_type": "code",
   "execution_count": 58,
   "metadata": {},
   "outputs": [
    {
     "name": "stdout",
     "output_type": "stream",
     "text": [
      "True\n"
     ]
    }
   ],
   "source": [
    "print(antrian_indomaret == antrian_indomaret2)"
   ]
  },
  {
   "cell_type": "code",
   "execution_count": 59,
   "metadata": {},
   "outputs": [],
   "source": [
    "antrian_indomaret2 = [\"ana\", \"adi\", \"cindy\", \"budi\"]"
   ]
  },
  {
   "cell_type": "code",
   "execution_count": 60,
   "metadata": {},
   "outputs": [
    {
     "name": "stdout",
     "output_type": "stream",
     "text": [
      "False\n"
     ]
    }
   ],
   "source": [
    "print(antrian_indomaret == antrian_indomaret2)"
   ]
  },
  {
   "cell_type": "code",
   "execution_count": 62,
   "metadata": {},
   "outputs": [
    {
     "name": "stdout",
     "output_type": "stream",
     "text": [
      "ana\n"
     ]
    }
   ],
   "source": [
    "print(antrian_indomaret[-1])"
   ]
  },
  {
   "cell_type": "code",
   "execution_count": 63,
   "metadata": {},
   "outputs": [
    {
     "name": "stdout",
     "output_type": "stream",
     "text": [
      "cindy\n"
     ]
    }
   ],
   "source": [
    "print(antrian_indomaret[-2])"
   ]
  },
  {
   "cell_type": "code",
   "execution_count": 123,
   "metadata": {},
   "outputs": [
    {
     "name": "stdout",
     "output_type": "stream",
     "text": [
      "['apel', 'anggur']\n",
      "apel\n"
     ]
    }
   ],
   "source": [
    "# list yang isinya list, namanya \"nested\"\n",
    "list_buah = [\n",
    "    [\"apel\", \"anggur\"], \n",
    "    [\"mangga\", \"melon\"],\n",
    "    [\"semangka\"]\n",
    "]\n",
    "\n",
    "print(list_buah[0]) # ini dapet list [\"apel\", \"anggur\"]\n",
    "print(list_buah[0][0]) # dapet \"apel\""
   ]
  },
  {
   "cell_type": "code",
   "execution_count": 64,
   "metadata": {},
   "outputs": [
    {
     "name": "stdout",
     "output_type": "stream",
     "text": [
      "['budi', 'adi', 'cindy', 'ana']\n"
     ]
    }
   ],
   "source": [
    "# slicing\n",
    "# membuat list baru dari sebagian list lama\n",
    "print(antrian_indomaret)"
   ]
  },
  {
   "cell_type": "code",
   "execution_count": 65,
   "metadata": {},
   "outputs": [
    {
     "name": "stdout",
     "output_type": "stream",
     "text": [
      "['adi', 'cindy']\n"
     ]
    }
   ],
   "source": [
    "antrian_baru = antrian_indomaret[1:3]\n",
    "print(antrian_baru)"
   ]
  },
  {
   "cell_type": "code",
   "execution_count": 67,
   "metadata": {},
   "outputs": [
    {
     "name": "stdout",
     "output_type": "stream",
     "text": [
      "['adi', 'cindy', 'herman']\n"
     ]
    }
   ],
   "source": [
    "# concatenate +\n",
    "print(antrian_baru + [\"herman\"])"
   ]
  },
  {
   "cell_type": "code",
   "execution_count": 68,
   "metadata": {},
   "outputs": [
    {
     "name": "stdout",
     "output_type": "stream",
     "text": [
      "['adi', 'cindy', 'adi', 'cindy', 'adi', 'cindy']\n"
     ]
    }
   ],
   "source": [
    "# replication *\n",
    "print(antrian_baru * 3)"
   ]
  },
  {
   "cell_type": "markdown",
   "metadata": {},
   "source": [
    "### yuk kita cek properti sebuah list"
   ]
  },
  {
   "cell_type": "code",
   "execution_count": 69,
   "metadata": {},
   "outputs": [
    {
     "name": "stdout",
     "output_type": "stream",
     "text": [
      "4\n"
     ]
    }
   ],
   "source": [
    "# len() --> length, untuk cek panjang list nya\n",
    "print(len(antrian_indomaret))"
   ]
  },
  {
   "cell_type": "code",
   "execution_count": 71,
   "metadata": {},
   "outputs": [
    {
     "name": "stdout",
     "output_type": "stream",
     "text": [
      "35\n",
      "90\n"
     ]
    }
   ],
   "source": [
    "# min() --> minimum\n",
    "# max() --> maximum\n",
    "list_nilai = [50, 60, 90, 35]\n",
    "print(min(list_nilai))\n",
    "print(max(list_nilai))"
   ]
  },
  {
   "cell_type": "markdown",
   "metadata": {},
   "source": [
    "## ubah satu elemen di list"
   ]
  },
  {
   "cell_type": "code",
   "execution_count": 73,
   "metadata": {},
   "outputs": [
    {
     "name": "stdout",
     "output_type": "stream",
     "text": [
      "['budi', 'adi', 'cindy', 'ana']\n",
      "['budi', 'john', 'cindy', 'ana']\n"
     ]
    }
   ],
   "source": [
    "print(antrian_indomaret)\n",
    "antrian_indomaret[1] = \"john\"\n",
    "print(antrian_indomaret)"
   ]
  },
  {
   "cell_type": "code",
   "execution_count": 74,
   "metadata": {},
   "outputs": [
    {
     "name": "stdout",
     "output_type": "stream",
     "text": [
      "['budi', 'cindy', 'ana']\n"
     ]
    }
   ],
   "source": [
    "del antrian_indomaret[1]\n",
    "print(antrian_indomaret)"
   ]
  },
  {
   "cell_type": "code",
   "execution_count": 77,
   "metadata": {},
   "outputs": [],
   "source": [
    "antrian = ['a','b','c','d','e','f']"
   ]
  },
  {
   "cell_type": "code",
   "execution_count": 78,
   "metadata": {},
   "outputs": [
    {
     "name": "stdout",
     "output_type": "stream",
     "text": [
      "['a', 'G', 'H', 'f']\n"
     ]
    }
   ],
   "source": [
    "antrian[1:5] = [\"G\", \"H\"]\n",
    "print(antrian)"
   ]
  },
  {
   "cell_type": "markdown",
   "metadata": {},
   "source": [
    "# Tuples\n",
    "\n",
    "tuples mirip dengan list. ada beberapa perbedaan:\n",
    "- tuples pakai ( )\n",
    "- tuples itu tidak bisa diubah (immutable)"
   ]
  },
  {
   "cell_type": "code",
   "execution_count": 79,
   "metadata": {},
   "outputs": [
    {
     "name": "stdout",
     "output_type": "stream",
     "text": [
      "('a', 'b', 'c', 'd', 'e', 'f')\n",
      "b\n",
      "f\n"
     ]
    }
   ],
   "source": [
    "tuple_alfabet = ('a','b','c','d','e','f')\n",
    "print(tuple_alfabet) #print tuple\n",
    "print(tuple_alfabet[1]) #akses dengan index\n",
    "print(tuple_alfabet[-1])"
   ]
  },
  {
   "cell_type": "code",
   "execution_count": 80,
   "metadata": {},
   "outputs": [
    {
     "ename": "TypeError",
     "evalue": "'tuple' object does not support item assignment",
     "output_type": "error",
     "traceback": [
      "\u001b[1;31m---------------------------------------------------------------------------\u001b[0m",
      "\u001b[1;31mTypeError\u001b[0m                                 Traceback (most recent call last)",
      "\u001b[1;32m<ipython-input-80-a09fb2f4f38c>\u001b[0m in \u001b[0;36m<module>\u001b[1;34m\u001b[0m\n\u001b[1;32m----> 1\u001b[1;33m \u001b[0mtuple_alfabet\u001b[0m\u001b[1;33m[\u001b[0m\u001b[1;36m1\u001b[0m\u001b[1;33m]\u001b[0m \u001b[1;33m=\u001b[0m \u001b[1;34m'g'\u001b[0m\u001b[1;33m\u001b[0m\u001b[1;33m\u001b[0m\u001b[0m\n\u001b[0m\u001b[0;32m      2\u001b[0m \u001b[0mprint\u001b[0m\u001b[1;33m(\u001b[0m\u001b[0mtuple_alfabet\u001b[0m\u001b[1;33m)\u001b[0m\u001b[1;33m\u001b[0m\u001b[1;33m\u001b[0m\u001b[0m\n",
      "\u001b[1;31mTypeError\u001b[0m: 'tuple' object does not support item assignment"
     ]
    }
   ],
   "source": [
    "tuple_alfabet[1] = 'g'\n",
    "print(tuple_alfabet)"
   ]
  },
  {
   "cell_type": "code",
   "execution_count": 82,
   "metadata": {},
   "outputs": [
    {
     "name": "stdout",
     "output_type": "stream",
     "text": [
      "4\n",
      "20\n",
      "70\n"
     ]
    }
   ],
   "source": [
    "tuple_nilai = (20,50,70,20)\n",
    "print(len(tuple_nilai))\n",
    "print(min(tuple_nilai))\n",
    "print(max(tuple_nilai))"
   ]
  },
  {
   "cell_type": "code",
   "execution_count": 88,
   "metadata": {},
   "outputs": [
    {
     "name": "stdout",
     "output_type": "stream",
     "text": [
      "('a', 'b', 'c', 'd', 'e', 'f', 20, 50, 70, 20)\n",
      "('a', 'malam', 'a', 'malam', 'a', 'malam')\n"
     ]
    }
   ],
   "source": [
    "print(tuple_alfabet + tuple_nilai)\n",
    "print((\"a\", \"malam\") * 3)"
   ]
  },
  {
   "cell_type": "code",
   "execution_count": 89,
   "metadata": {},
   "outputs": [
    {
     "name": "stdout",
     "output_type": "stream",
     "text": [
      "('budi', 'cindy', 'ana')\n"
     ]
    }
   ],
   "source": [
    "print(tuple(antrian_indomaret)) # ubah list jadi tuple"
   ]
  },
  {
   "cell_type": "code",
   "execution_count": 90,
   "metadata": {},
   "outputs": [
    {
     "name": "stdout",
     "output_type": "stream",
     "text": [
      "['a', 'b', 'c', 'd', 'e', 'f']\n"
     ]
    }
   ],
   "source": [
    "print(list(tuple_alfabet)) # ubah tuple jadi list"
   ]
  },
  {
   "cell_type": "markdown",
   "metadata": {},
   "source": [
    "# Dictionary"
   ]
  },
  {
   "cell_type": "code",
   "execution_count": 93,
   "metadata": {},
   "outputs": [
    {
     "name": "stdout",
     "output_type": "stream",
     "text": [
      "{'merk': 'avanza', 'warna': 'silver', 'jumlah_ban': 4, 'tipe': 'automatic'}\n"
     ]
    }
   ],
   "source": [
    "# bikin dictionary pakai { }\n",
    "# isinya adalah key:value pair\n",
    "mobil = { \n",
    "    \"merk\": \"avanza\", \n",
    "    \"warna\": \"silver\",\n",
    "    \"jumlah_ban\": 4,\n",
    "    \"tipe\": \"automatic\"\n",
    "}\n",
    "\n",
    "print(mobil)"
   ]
  },
  {
   "cell_type": "code",
   "execution_count": 94,
   "metadata": {},
   "outputs": [],
   "source": [
    "# major league baseball\n",
    "mlb_team = {\n",
    "    'Colorado': 'Rockies',\n",
    "    'Boston': 'Red Sox'\n",
    "}"
   ]
  },
  {
   "cell_type": "code",
   "execution_count": 95,
   "metadata": {},
   "outputs": [],
   "source": [
    "orang = {\n",
    "    \"nama\": \"andhika\",\n",
    "    \"umur\": 15,\n",
    "    \"hobi\": [\"masak\", \"tidur\", \"main game\"],\n",
    "    \"berkacamata\": False\n",
    "}"
   ]
  },
  {
   "cell_type": "code",
   "execution_count": 97,
   "metadata": {},
   "outputs": [
    {
     "name": "stdout",
     "output_type": "stream",
     "text": [
      "andhika\n",
      "15\n",
      "['masak', 'tidur', 'main game']\n",
      "False\n"
     ]
    }
   ],
   "source": [
    "# akses value dari sebuah dictionary menggunakan key\n",
    "print(orang[\"nama\"])\n",
    "print(orang[\"umur\"])\n",
    "print(orang[\"hobi\"])\n",
    "print(orang[\"berkacamata\"])"
   ]
  },
  {
   "cell_type": "code",
   "execution_count": 98,
   "metadata": {},
   "outputs": [
    {
     "name": "stdout",
     "output_type": "stream",
     "text": [
      "{'nama': 'andhika', 'umur': 15, 'hobi': ['masak', 'tidur', 'main game'], 'berkacamata': False, 'ijazah': ['sd', 'smp', 'sma']}\n"
     ]
    }
   ],
   "source": [
    "# nambahin pasangan key:value ke sebuah dictionary\n",
    "orang[\"ijazah\"] = [\"sd\", \"smp\", \"sma\"]\n",
    "print(orang)"
   ]
  },
  {
   "cell_type": "code",
   "execution_count": 99,
   "metadata": {},
   "outputs": [
    {
     "name": "stdout",
     "output_type": "stream",
     "text": [
      "['sd', 'smp', 'sma']\n"
     ]
    }
   ],
   "source": [
    "print(orang[\"ijazah\"])"
   ]
  },
  {
   "cell_type": "code",
   "execution_count": 100,
   "metadata": {},
   "outputs": [
    {
     "name": "stdout",
     "output_type": "stream",
     "text": [
      "{'nama': 'andhika', 'umur': 20, 'hobi': ['masak', 'tidur', 'main game'], 'berkacamata': False, 'ijazah': ['sd', 'smp', 'sma']}\n"
     ]
    }
   ],
   "source": [
    "# update sebuah value di dictionary\n",
    "orang[\"umur\"] = 20\n",
    "print(orang)"
   ]
  },
  {
   "cell_type": "code",
   "execution_count": 101,
   "metadata": {},
   "outputs": [
    {
     "name": "stdout",
     "output_type": "stream",
     "text": [
      "{'nama': 'andhika', 'umur': 20, 'berkacamata': False, 'ijazah': ['sd', 'smp', 'sma']}\n"
     ]
    }
   ],
   "source": [
    "# menghapus sebuah pasangan key:value di dicitonary\n",
    "del orang[\"hobi\"]\n",
    "print(orang)"
   ]
  },
  {
   "cell_type": "code",
   "execution_count": 115,
   "metadata": {},
   "outputs": [
    {
     "name": "stdout",
     "output_type": "stream",
     "text": [
      "{'nama': 'andhika', 'umur': 20, 'berkacamata': False, 'ijazah': ['sd', 'smp', 'sma'], 'nama_orangtua': ('Guntur', 'Kalisah')}\n"
     ]
    }
   ],
   "source": [
    "orang[\"nama_orangtua\"] = (\"Guntur\", \"Kalisah\")\n",
    "print(orang)"
   ]
  },
  {
   "cell_type": "code",
   "execution_count": 117,
   "metadata": {},
   "outputs": [
    {
     "name": "stdout",
     "output_type": "stream",
     "text": [
      "('Guntur', 'Kalisah')\n"
     ]
    },
    {
     "ename": "TypeError",
     "evalue": "'tuple' object does not support item assignment",
     "output_type": "error",
     "traceback": [
      "\u001b[1;31m---------------------------------------------------------------------------\u001b[0m",
      "\u001b[1;31mTypeError\u001b[0m                                 Traceback (most recent call last)",
      "\u001b[1;32m<ipython-input-117-5d081df388d0>\u001b[0m in \u001b[0;36m<module>\u001b[1;34m\u001b[0m\n\u001b[0;32m      1\u001b[0m \u001b[0mprint\u001b[0m\u001b[1;33m(\u001b[0m\u001b[0morang\u001b[0m\u001b[1;33m[\u001b[0m\u001b[1;34m\"nama_orangtua\"\u001b[0m\u001b[1;33m]\u001b[0m\u001b[1;33m)\u001b[0m\u001b[1;33m\u001b[0m\u001b[1;33m\u001b[0m\u001b[0m\n\u001b[1;32m----> 2\u001b[1;33m \u001b[0morang\u001b[0m\u001b[1;33m[\u001b[0m\u001b[1;34m\"nama_orangtua\"\u001b[0m\u001b[1;33m]\u001b[0m\u001b[1;33m[\u001b[0m\u001b[1;36m0\u001b[0m\u001b[1;33m]\u001b[0m \u001b[1;33m=\u001b[0m \u001b[1;34m\"Agung\"\u001b[0m\u001b[1;33m\u001b[0m\u001b[1;33m\u001b[0m\u001b[0m\n\u001b[0m",
      "\u001b[1;31mTypeError\u001b[0m: 'tuple' object does not support item assignment"
     ]
    }
   ],
   "source": [
    "print(orang[\"nama_orangtua\"])\n",
    "orang[\"nama_orangtua\"][0] = \"Agung\" #tidak bisa diubah karena orang[\"nama_orangtua\"] adalah sebuah tuple"
   ]
  },
  {
   "cell_type": "code",
   "execution_count": 118,
   "metadata": {},
   "outputs": [
    {
     "name": "stdout",
     "output_type": "stream",
     "text": [
      "['sd', 'smp', 'sma']\n",
      "{'nama': 'andhika', 'umur': 20, 'berkacamata': False, 'ijazah': ['tk', 'smp', 'sma'], 'nama_orangtua': ('Guntur', 'Kalisah')}\n"
     ]
    }
   ],
   "source": [
    "print(orang[\"ijazah\"])\n",
    "orang[\"ijazah\"][0] = \"tk\" #bisa diubah karena orang[\"ijazah\"] adalah sebuah list\n",
    "print(orang)"
   ]
  },
  {
   "cell_type": "markdown",
   "metadata": {},
   "source": [
    "## bikin dictionary pelan pelan satu per satu pasang"
   ]
  },
  {
   "cell_type": "code",
   "execution_count": 102,
   "metadata": {},
   "outputs": [],
   "source": [
    "orang2 = {}"
   ]
  },
  {
   "cell_type": "code",
   "execution_count": 103,
   "metadata": {},
   "outputs": [
    {
     "name": "stdout",
     "output_type": "stream",
     "text": [
      "{}\n"
     ]
    }
   ],
   "source": [
    "print(orang2)"
   ]
  },
  {
   "cell_type": "code",
   "execution_count": 106,
   "metadata": {},
   "outputs": [
    {
     "name": "stdout",
     "output_type": "stream",
     "text": [
      "{'nama': 'John', 'umur': 54, 'pasangan': 'Jane', 'anak': ['Ralph', 'Betty', 'Joey']}\n"
     ]
    }
   ],
   "source": [
    "orang2[\"nama\"] = \"John\"\n",
    "orang2[\"umur\"] = 54\n",
    "orang2[\"pasangan\"] = \"Jane\"\n",
    "orang2[\"anak\"] = [\"Ralph\", \"Betty\", \"Joey\"]\n",
    "\n",
    "print(orang2)"
   ]
  },
  {
   "cell_type": "code",
   "execution_count": 107,
   "metadata": {},
   "outputs": [
    {
     "name": "stdout",
     "output_type": "stream",
     "text": [
      "dict_items([('nama', 'John'), ('umur', 54), ('pasangan', 'Jane'), ('anak', ['Ralph', 'Betty', 'Joey'])])\n"
     ]
    }
   ],
   "source": [
    "# built-in method dictionary\n",
    "\n",
    "# kasih lihat semua pasangan key:value dictionary ini\n",
    "print(orang2.items()) #list isi tuple"
   ]
  },
  {
   "cell_type": "code",
   "execution_count": 108,
   "metadata": {},
   "outputs": [
    {
     "name": "stdout",
     "output_type": "stream",
     "text": [
      "dict_keys(['nama', 'umur', 'pasangan', 'anak'])\n",
      "dict_values(['John', 54, 'Jane', ['Ralph', 'Betty', 'Joey']])\n"
     ]
    }
   ],
   "source": [
    "# kasih lihat semua key aja\n",
    "print(orang2.keys()) #list\n",
    "\n",
    "# kasih lihat semua values aja\n",
    "print(orang2.values()) #list"
   ]
  },
  {
   "cell_type": "markdown",
   "metadata": {},
   "source": [
    "# Line Continuation\n",
    "\n",
    "code nya panjang ke kanan sampai keluar layar, caranya biar code nya bisa pindah ke baris baru aja, tapi gak error, adalah dengan memakai kurung ( )"
   ]
  },
  {
   "cell_type": "code",
   "execution_count": 109,
   "metadata": {},
   "outputs": [
    {
     "name": "stdout",
     "output_type": "stream",
     "text": [
      "True\n"
     ]
    }
   ],
   "source": [
    "umur_andhika = 20\n",
    "umur_john = 64\n",
    "umur_jane = 59\n",
    "\n",
    "seseorang_lansia_diantara_mereka = (umur_andhika >= 60) or (umur_john >= 60) or (umur_jane >= 60)\n",
    "print(seseorang_lansia_diantara_mereka)"
   ]
  },
  {
   "cell_type": "code",
   "execution_count": 112,
   "metadata": {},
   "outputs": [
    {
     "name": "stdout",
     "output_type": "stream",
     "text": [
      "True\n"
     ]
    }
   ],
   "source": [
    "seseorang_lansia_diantara_mereka = (\n",
    "    (umur_andhika >= 60) or \n",
    "    (umur_john >= 60) or \n",
    "    (umur_jane >= 60)\n",
    ")\n",
    "print(seseorang_lansia_diantara_mereka)"
   ]
  },
  {
   "cell_type": "code",
   "execution_count": null,
   "metadata": {},
   "outputs": [],
   "source": []
  }
 ],
 "metadata": {
  "kernelspec": {
   "display_name": "Python 3",
   "language": "python",
   "name": "python3"
  },
  "language_info": {
   "codemirror_mode": {
    "name": "ipython",
    "version": 3
   },
   "file_extension": ".py",
   "mimetype": "text/x-python",
   "name": "python",
   "nbconvert_exporter": "python",
   "pygments_lexer": "ipython3",
   "version": "3.8.5"
  }
 },
 "nbformat": 4,
 "nbformat_minor": 4
}
