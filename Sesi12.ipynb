{
 "cells": [
  {
   "cell_type": "markdown",
   "metadata": {},
   "source": [
    "# Machine Learning\n",
    "bikin program tapi tidak tulis code secara explicit, banyak yg otomatis. jadi pakai apa? pakai data.\n",
    "\n",
    "## Supervised\n",
    "saat kita punya contoh data: fitur dan targetnya misalnya fitur [luas tanah, luas rumah] dan target [harga rumah]\n",
    "- Regression\n",
    "    - kita mau prediksi sebuah angka\n",
    "- Classification\n",
    "    - kita mau bagi data kita ke label tertentu. misalnya fitur [berat badan, tinggi badan] target [obesitas/ tidak]"
   ]
  },
  {
   "cell_type": "markdown",
   "metadata": {},
   "source": [
    "# Classification\n",
    "- Logistic Regression\n",
    "- K Nearest Neighbor (KNN)"
   ]
  },
  {
   "cell_type": "markdown",
   "metadata": {},
   "source": [
    "# Logistic Regression\n",
    "menggunakan teknik regression tapi fungsi untuk garisnya adalah sigmoid function membentuk \"S\" yang bisa misahin data"
   ]
  },
  {
   "cell_type": "code",
   "execution_count": 131,
   "metadata": {},
   "outputs": [],
   "source": [
    "%matplotlib inline\n",
    "import matplotlib.pyplot as plt\n",
    "\n",
    "import numpy as np\n",
    "import pandas as pd\n",
    "\n",
    "from sklearn.linear_model import LogisticRegression\n",
    "\n",
    "from sklearn.metrics import classification_report, confusion_matrix"
   ]
  },
  {
   "cell_type": "code",
   "execution_count": 132,
   "metadata": {},
   "outputs": [
    {
     "name": "stdout",
     "output_type": "stream",
     "text": [
      "[[0]\n",
      " [1]\n",
      " [2]\n",
      " [3]\n",
      " [4]\n",
      " [5]\n",
      " [6]\n",
      " [7]\n",
      " [8]\n",
      " [9]] (10, 1)\n"
     ]
    }
   ],
   "source": [
    "# siapin data\n",
    "x = np.arange(10).reshape(-1,1)\n",
    "y = np.array([0,0,0,0,1,1,1,1,1,1])\n",
    "\n",
    "print(x, x.shape)"
   ]
  },
  {
   "cell_type": "code",
   "execution_count": 133,
   "metadata": {},
   "outputs": [
    {
     "name": "stdout",
     "output_type": "stream",
     "text": [
      "[0 0 0 0 1 1 1 1 1 1] (10,)\n"
     ]
    }
   ],
   "source": [
    "print(y, y.shape)"
   ]
  },
  {
   "cell_type": "code",
   "execution_count": 134,
   "metadata": {},
   "outputs": [],
   "source": [
    "# bikin model\n",
    "model = LogisticRegression(solver=\"liblinear\", random_state = 0)"
   ]
  },
  {
   "cell_type": "code",
   "execution_count": 135,
   "metadata": {},
   "outputs": [
    {
     "data": {
      "text/plain": [
       "LogisticRegression(random_state=0, solver='liblinear')"
      ]
     },
     "execution_count": 135,
     "metadata": {},
     "output_type": "execute_result"
    }
   ],
   "source": [
    "# training model, fit\n",
    "model.fit(x,y)"
   ]
  },
  {
   "cell_type": "code",
   "execution_count": 136,
   "metadata": {},
   "outputs": [
    {
     "data": {
      "text/plain": [
       "array([0, 0, 0, 1, 1, 1, 1, 1, 1, 1])"
      ]
     },
     "execution_count": 136,
     "metadata": {},
     "output_type": "execute_result"
    }
   ],
   "source": [
    "# bikin prediksi\n",
    "y_pred = model.predict(x)\n",
    "y_pred"
   ]
  },
  {
   "cell_type": "code",
   "execution_count": 137,
   "metadata": {},
   "outputs": [
    {
     "name": "stdout",
     "output_type": "stream",
     "text": [
      "              precision    recall  f1-score   support\n",
      "\n",
      "           0       1.00      0.75      0.86         4\n",
      "           1       0.86      1.00      0.92         6\n",
      "\n",
      "    accuracy                           0.90        10\n",
      "   macro avg       0.93      0.88      0.89        10\n",
      "weighted avg       0.91      0.90      0.90        10\n",
      "\n"
     ]
    }
   ],
   "source": [
    "# evaluasi akurasi model\n",
    "print(classification_report(y, y_pred))"
   ]
  },
  {
   "cell_type": "markdown",
   "metadata": {},
   "source": [
    "contoh:  \n",
    "10 data; 5 positif; 5 negatif  \n",
    "prediksi 4 positif; 6 negatif\n",
    "\n",
    "The sensitivity (also known as recall or true positive rate) is the ratio of the number of true positives to the number of actual positives.  \n",
    "rasio prediksi benar positif kita dibagi jumlah data yang positif; 4/5\n",
    "\n",
    "\n",
    "The specificity (or true negative rate) is the ratio of the number of true negatives to the number of actual negatives.\n",
    "rasio prediksi benar negatif kita dibagi jumlah data yang negatif; 5/5"
   ]
  },
  {
   "cell_type": "code",
   "execution_count": 138,
   "metadata": {},
   "outputs": [
    {
     "data": {
      "text/plain": [
       "array([1])"
      ]
     },
     "execution_count": 138,
     "metadata": {},
     "output_type": "execute_result"
    }
   ],
   "source": [
    "model.predict([[5]])"
   ]
  },
  {
   "cell_type": "code",
   "execution_count": 139,
   "metadata": {},
   "outputs": [
    {
     "data": {
      "text/plain": [
       "array([0, 1])"
      ]
     },
     "execution_count": 139,
     "metadata": {},
     "output_type": "execute_result"
    }
   ],
   "source": [
    "# melihat ada label apa saja di model ini\n",
    "model.classes_ \n",
    "# karena kita cuma ada 2 jenis label 0 dan 1\n",
    "# jadi classes nya cuma ada 0 dan 1"
   ]
  },
  {
   "cell_type": "code",
   "execution_count": 140,
   "metadata": {},
   "outputs": [
    {
     "data": {
      "text/plain": [
       "array([[0.74002157, 0.25997843],\n",
       "       [0.62975524, 0.37024476],\n",
       "       [0.5040632 , 0.4959368 ],\n",
       "       [0.37785549, 0.62214451],\n",
       "       [0.26628093, 0.73371907],\n",
       "       [0.17821501, 0.82178499],\n",
       "       [0.11472079, 0.88527921],\n",
       "       [0.07186982, 0.92813018],\n",
       "       [0.04422513, 0.95577487],\n",
       "       [0.02690569, 0.97309431]])"
      ]
     },
     "execution_count": 140,
     "metadata": {},
     "output_type": "execute_result"
    }
   ],
   "source": [
    "# melihat probabilitas per label\n",
    "model.predict_proba(x)"
   ]
  },
  {
   "cell_type": "code",
   "execution_count": 141,
   "metadata": {},
   "outputs": [
    {
     "data": {
      "text/plain": [
       "Text(0, 0.5, 'label 1 atau label 0')"
      ]
     },
     "execution_count": 141,
     "metadata": {},
     "output_type": "execute_result"
    },
    {
     "data": {
      "image/png": "[encoded data removed]",
      "text/plain": [
       "<Figure size 432x288 with 1 Axes>"
      ]
     },
     "metadata": {
      "needs_background": "light"
     },
     "output_type": "display_data"
    }
   ],
   "source": [
    "# visualisasi\n",
    "plt.scatter(x,y)\n",
    "\n",
    "plt.scatter(x, y_pred, marker=\"x\")\n",
    "# plt.scatter(x, model.predict_proba(x).T[1], color=\"black\")\n",
    "plt.plot(x, model.predict_proba(x).T[1], color=\"black\")\n",
    "\n",
    "plt.title(\"Logistic Regression dengan 2 label dan 1 fitur\")\n",
    "plt.xlabel(\"value x\")\n",
    "plt.ylabel(\"label 1 atau label 0\")"
   ]
  },
  {
   "cell_type": "markdown",
   "metadata": {},
   "source": [
    "# Confusion Matrix\n",
    "melihat tingkat akurasi model\n",
    "\n",
    "True positive\\\n",
    "data aslinya label gambar kucing, hasil prediksi gambar kucing\n",
    "- saat label (punya diabetes) di prediksi dengan benar\n",
    "\n",
    "False positive\\\n",
    "data aslinya label gambar bukan kucing, hasil prediksi kucing\n",
    "- saat label (tidak punya diabetes) di prediksi salah (dia punya diabetes)\n",
    "\n",
    "True negative\\\n",
    "aslinya bukan gambar kucing, hasil prediksi bukan kucing\n",
    "- saat label (tidak punya diabetes) di prediksi dengan benar\n",
    "\n",
    "False negative\\\n",
    "aslinya gambar kucing, prediksinya bukan kucing\n",
    "- saat label (punya diabetes) di prediksi dengan salah"
   ]
  },
  {
   "cell_type": "code",
   "execution_count": 142,
   "metadata": {},
   "outputs": [
    {
     "name": "stdout",
     "output_type": "stream",
     "text": [
      "[[3 1]\n",
      " [0 6]]\n"
     ]
    }
   ],
   "source": [
    "print(confusion_matrix(y, y_pred))"
   ]
  },
  {
   "cell_type": "code",
   "execution_count": 143,
   "metadata": {},
   "outputs": [
    {
     "data": {
      "image/png": "[encoded data removed]",
      "text/plain": [
       "<Figure size 288x288 with 1 Axes>"
      ]
     },
     "metadata": {
      "needs_background": "light"
     },
     "output_type": "display_data"
    }
   ],
   "source": [
    "# visualisasi confusion matrix\n",
    "cm = confusion_matrix(y, y_pred)\n",
    "\n",
    "fig, ax = plt.subplots(figsize=(4,4))\n",
    "ax.imshow(cm)\n",
    "\n",
    "ax.xaxis.set(ticks=(0,1), ticklabels=('Prediksi Negatif 0', 'Prediksi Positif 1'))\n",
    "ax.yaxis.set(ticks=(0,1), ticklabels=('Asli Negatif 0', 'Asli Positif 1'))\n",
    "\n",
    "for i in range(2):\n",
    "    for j in range(2):\n",
    "        ax.text(j,i, cm[i,j])"
   ]
  },
  {
   "cell_type": "markdown",
   "metadata": {},
   "source": [
    "## sensitivity/ recall\n",
    "true positif ada 6\\\n",
    "total positif ada 6\\\n",
    "berarti, sensitivity nya adalah 6/6 = 1.0\n",
    "\n",
    "\n",
    "## specificity\n",
    "true negatif ada 3\\\n",
    "total negatif 4\\\n",
    "berarti, specificity nya adalah 3/4 = 0.75\n",
    "\n",
    "\n",
    "## positive predictive value/ precision\n",
    "true positif ada 6\\\n",
    "true + false positif ada 6+1=7\\\n",
    "bearti, rasio nya 6/7=0.86"
   ]
  },
  {
   "cell_type": "code",
   "execution_count": 144,
   "metadata": {},
   "outputs": [
    {
     "name": "stdout",
     "output_type": "stream",
     "text": [
      "              precision    recall  f1-score   support\n",
      "\n",
      "           0       1.00      0.75      0.86         4\n",
      "           1       0.86      1.00      0.92         6\n",
      "\n",
      "    accuracy                           0.90        10\n",
      "   macro avg       0.93      0.88      0.89        10\n",
      "weighted avg       0.91      0.90      0.90        10\n",
      "\n"
     ]
    }
   ],
   "source": [
    "print(classification_report(y, y_pred))"
   ]
  },
  {
   "cell_type": "code",
   "execution_count": 30,
   "metadata": {},
   "outputs": [
    {
     "name": "stdout",
     "output_type": "stream",
     "text": [
      "              precision    recall  f1-score   support\n",
      "\n",
      "           0       1.00      1.00      1.00         4\n",
      "           1       1.00      1.00      1.00         6\n",
      "\n",
      "    accuracy                           1.00        10\n",
      "   macro avg       1.00      1.00      1.00        10\n",
      "weighted avg       1.00      1.00      1.00        10\n",
      "\n"
     ]
    }
   ],
   "source": [
    "# tuning, improve model nya biar lebih akurat\n",
    "# bikin model\n",
    "model = LogisticRegression(solver=\"liblinear\", \n",
    "                           C=10.0,\n",
    "                           random_state = 0)\n",
    "\n",
    "# training, fit model\n",
    "model.fit(x,y)\n",
    "\n",
    "# bikin prediksi\n",
    "y_pred = model.predict(x)\n",
    "\n",
    "# evaluasi akurasi model\n",
    "print(classification_report(y, y_pred))"
   ]
  },
  {
   "cell_type": "code",
   "execution_count": 36,
   "metadata": {},
   "outputs": [
    {
     "data": {
      "text/plain": [
       "Text(0, 0.5, 'label 1 atau label 0')"
      ]
     },
     "execution_count": 36,
     "metadata": {},
     "output_type": "execute_result"
    },
    {
     "data": {
      "image/png": "[encoded data removed]",
      "text/plain": [
       "<Figure size 432x288 with 1 Axes>"
      ]
     },
     "metadata": {
      "needs_background": "light"
     },
     "output_type": "display_data"
    }
   ],
   "source": [
    "# visualisasi lagi\n",
    "plt.scatter(x,y)\n",
    "\n",
    "# plot hasil prediksi\n",
    "plt.scatter(x,y_pred, marker=\"x\")\n",
    "plt.plot(x, model.predict_proba(x).T[1], color=\"black\")\n",
    "\n",
    "plt.title(\"Logistic Regression dengan 2 label dan 1 fitur, pakai opsi C=10\")\n",
    "plt.xlabel(\"value x\")\n",
    "plt.ylabel(\"label 1 atau label 0\")"
   ]
  },
  {
   "cell_type": "code",
   "execution_count": 40,
   "metadata": {},
   "outputs": [
    {
     "data": {
      "text/plain": [
       "array([[0.97106534, 0.02893466],\n",
       "       [0.9162684 , 0.0837316 ],\n",
       "       [0.7810904 , 0.2189096 ],\n",
       "       [0.53777071, 0.46222929],\n",
       "       [0.27502212, 0.72497788],\n",
       "       [0.11007743, 0.88992257],\n",
       "       [0.03876835, 0.96123165],\n",
       "       [0.01298011, 0.98701989],\n",
       "       [0.0042697 , 0.9957303 ],\n",
       "       [0.00139621, 0.99860379]])"
      ]
     },
     "execution_count": 40,
     "metadata": {},
     "output_type": "execute_result"
    }
   ],
   "source": [
    " model.predict_proba(x)"
   ]
  },
  {
   "cell_type": "markdown",
   "metadata": {},
   "source": [
    "# Jika ada lebih dari 2 label?\n",
    "misalnya ada koleksi gambar 64px, 8x8px, yang menunjukkan angka hasil tulis tangan 0,1,2,...,9\n",
    "\n",
    "kita mau pisahkan gambarnya menjadi angka benaran di komputer, jadi ada 10 label berbeda, masing2 untuk setiap angka. ini targetnya.\n",
    "\n",
    "## cara bikin di python?\n",
    "gambarnya di convert ke bentuk numpy array. setiap pixel dapat satu angka. 1 gambar = 1 np.array yang isinya 64 angka. ini jadi 64 fitur.\n",
    "\n",
    "## contoh\n",
    "Kita ambil data dari sklearn.dataset namanya load_digits"
   ]
  },
  {
   "cell_type": "code",
   "execution_count": 146,
   "metadata": {},
   "outputs": [],
   "source": [
    "# ambil data dari sklearn.datasets\n",
    "from sklearn.datasets import load_digits\n",
    "\n",
    "# bikin model pakai scikit learn linear model punya LogisticRegression\n",
    "from sklearn.linear_model import LogisticRegression\n",
    "\n",
    "# untuk cek akurasi model\n",
    "from sklearn.metrics import classification_report, confusion_matrix\n",
    "\n",
    "# tambahan supaya model lebih akurat\n",
    "from sklearn.model_selection import train_test_split\n",
    "from sklearn.preprocessing import StandardScaler"
   ]
  },
  {
   "cell_type": "code",
   "execution_count": 147,
   "metadata": {},
   "outputs": [
    {
     "name": "stdout",
     "output_type": "stream",
     "text": [
      "[[ 0.  0.  5. ...  0.  0.  0.]\n",
      " [ 0.  0.  0. ... 10.  0.  0.]\n",
      " [ 0.  0.  0. ... 16.  9.  0.]\n",
      " ...\n",
      " [ 0.  0.  1. ...  6.  0.  0.]\n",
      " [ 0.  0.  2. ... 12.  0.  0.]\n",
      " [ 0.  0. 10. ... 12.  1.  0.]] (1797, 64)\n",
      "[0 1 2 ... 8 9 8] (1797,)\n"
     ]
    }
   ],
   "source": [
    "# siapin data\n",
    "x, y = load_digits(return_X_y=True)\n",
    "\n",
    "print(x, x.shape)\n",
    "print(y, y.shape)"
   ]
  },
  {
   "cell_type": "code",
   "execution_count": 148,
   "metadata": {},
   "outputs": [
    {
     "data": {
      "text/plain": [
       "Text(0.5, 1.0, '9')"
      ]
     },
     "execution_count": 148,
     "metadata": {},
     "output_type": "execute_result"
    },
    {
     "data": {
      "image/png": "[encoded data removed]",
      "text/plain": [
       "<Figure size 432x288 with 1 Axes>"
      ]
     },
     "metadata": {
      "needs_background": "light"
     },
     "output_type": "display_data"
    }
   ],
   "source": [
    "n= 1795\n",
    "plt.imshow(x[n].reshape(8,8))\n",
    "plt.title(y[n])"
   ]
  },
  {
   "cell_type": "code",
   "execution_count": 149,
   "metadata": {},
   "outputs": [
    {
     "name": "stdout",
     "output_type": "stream",
     "text": [
      "data training\n",
      "[[ 0.  0.  0. ... 16. 16.  6.]\n",
      " [ 0.  3. 12. ... 16.  2.  0.]\n",
      " [ 0.  1. 10. ...  0.  0.  0.]\n",
      " ...\n",
      " [ 0.  0.  5. ...  0.  0.  0.]\n",
      " [ 0.  0.  4. ...  0.  0.  0.]\n",
      " [ 0.  0.  6. ... 11.  0.  0.]] [6 5 3 ... 7 7 8]\n",
      "(1437, 64) (1437,)\n",
      "data testing\n",
      "(360, 64) (360,)\n"
     ]
    }
   ],
   "source": [
    "# pisahin datanya jadi 2 set: training dan testing\n",
    "x_train, x_test, y_train, y_test = train_test_split(x,y,\n",
    "                 random_state=0,\n",
    "                 test_size=0.2) #20% data utk testing 80% untuk training\n",
    "\n",
    "print(\"data training\")\n",
    "print(x_train, y_train)\n",
    "print(x_train.shape, y_train.shape)\n",
    "\n",
    "print(\"data testing\")\n",
    "# print(x_test, y_test)\n",
    "print(x_test.shape, y_test.shape)"
   ]
  },
  {
   "cell_type": "code",
   "execution_count": 150,
   "metadata": {},
   "outputs": [],
   "source": [
    "# scale datanya jadi ada di range tertentu\n",
    "scaler = StandardScaler()\n",
    "\n",
    "# ubah data awal kita jadi yang scaled\n",
    "x_train_scaled = scaler.fit_transform(x_train)\n",
    "x_test_scaled = scaler.fit_transform(x_test)"
   ]
  },
  {
   "cell_type": "code",
   "execution_count": 151,
   "metadata": {},
   "outputs": [
    {
     "data": {
      "text/plain": [
       "LogisticRegression(C=0.05, multi_class='ovr', solver='liblinear')"
      ]
     },
     "execution_count": 151,
     "metadata": {},
     "output_type": "execute_result"
    }
   ],
   "source": [
    "# bikin model\n",
    "model = LogisticRegression(\n",
    "                    solver=\"liblinear\",\n",
    "                    C = 0.05,\n",
    "                    multi_class='ovr')\n",
    "\n",
    "# training model, fit\n",
    "model.fit(x_train, y_train)"
   ]
  },
  {
   "cell_type": "code",
   "execution_count": 152,
   "metadata": {},
   "outputs": [
    {
     "data": {
      "text/plain": [
       "0.9583333333333334"
      ]
     },
     "execution_count": 152,
     "metadata": {},
     "output_type": "execute_result"
    }
   ],
   "source": [
    "# bikin prediksi\n",
    "y_predicted = model.predict(x_test)\n",
    "\n",
    "# evaluasi ke akuratan model kita\n",
    "model.score(x_test, y_test)"
   ]
  },
  {
   "cell_type": "code",
   "execution_count": 153,
   "metadata": {},
   "outputs": [
    {
     "name": "stdout",
     "output_type": "stream",
     "text": [
      "              precision    recall  f1-score   support\n",
      "\n",
      "           0       1.00      1.00      1.00        27\n",
      "           1       0.89      0.94      0.92        35\n",
      "           2       0.97      0.97      0.97        36\n",
      "           3       0.94      1.00      0.97        29\n",
      "           4       0.97      0.97      0.97        30\n",
      "           5       0.97      0.97      0.97        40\n",
      "           6       0.98      0.98      0.98        44\n",
      "           7       0.97      0.95      0.96        39\n",
      "           8       0.92      0.92      0.92        39\n",
      "           9       0.97      0.90      0.94        41\n",
      "\n",
      "    accuracy                           0.96       360\n",
      "   macro avg       0.96      0.96      0.96       360\n",
      "weighted avg       0.96      0.96      0.96       360\n",
      "\n"
     ]
    }
   ],
   "source": [
    "print(classification_report(y_test, y_predicted))"
   ]
  },
  {
   "cell_type": "code",
   "execution_count": 160,
   "metadata": {},
   "outputs": [
    {
     "data": {
      "image/png": "[encoded data removed]",
      "text/plain": [
       "<Figure size 576x576 with 1 Axes>"
      ]
     },
     "metadata": {
      "needs_background": "light"
     },
     "output_type": "display_data"
    }
   ],
   "source": [
    "# visualisasi confusion matrix\n",
    "cm = confusion_matrix(y_test, y_predicted)\n",
    "\n",
    "fig, ax = plt.subplots(figsize=(8,8))\n",
    "\n",
    "ax.imshow(cm, cmap=\"Reds\")\n",
    "# pilihan warna imshow bisa dilihat di https://matplotlib.org/stable/tutorials/colors/colormaps.html\n",
    "\n",
    "ax.xaxis.set(ticks=range(10))\n",
    "ax.set_xlabel(\"predicted\")\n",
    "\n",
    "ax.yaxis.set(ticks=range(10))\n",
    "ax.set_ylabel(\"actual\")\n",
    "\n",
    "for i in range(10):\n",
    "    for j in range(10):\n",
    "        ax.text(j,i, cm[i,j], ha=\"center\", va=\"center\", color=\"black\")"
   ]
  },
  {
   "cell_type": "markdown",
   "metadata": {},
   "source": [
    "# K-Nearest Neighbor (KNN)\n",
    "\n",
    "mengklasifikasi data baru dengan fitur2nya dengan mencari \"tetangga\" dari data lainnya. k tetangga terdekat (misal k=3, maka 3 tetangga terdekat) punya label apa? label terbanyak dari 3 tetangga itu jadi label milik data baru ini."
   ]
  },
  {
   "cell_type": "code",
   "execution_count": 84,
   "metadata": {},
   "outputs": [],
   "source": [
    "# import package\n",
    "from sklearn import preprocessing\n",
    "from sklearn.neighbors import KNeighborsClassifier"
   ]
  },
  {
   "cell_type": "code",
   "execution_count": 85,
   "metadata": {},
   "outputs": [],
   "source": [
    "# siapin data\n",
    "# Fitur 1 - cuaca\n",
    "weather=['Sunny','Sunny','Overcast','Rainy','Rainy','Rainy','Overcast','Sunny','Sunny',\n",
    "'Rainy','Sunny','Overcast','Overcast','Rainy']\n",
    "\n",
    "# Fitur 2 - temperatur\n",
    "temp=['Hot','Hot','Hot','Mild','Cool','Cool','Cool','Mild','Cool','Mild','Mild','Mild','Hot','Mild']\n",
    "\n",
    "# Label/target - main keluar atau nggak\n",
    "play=['No','No','Yes','Yes','Yes','No','Yes','No','Yes','Yes','Yes','Yes','Yes','No']"
   ]
  },
  {
   "cell_type": "code",
   "execution_count": 87,
   "metadata": {},
   "outputs": [
    {
     "name": "stdout",
     "output_type": "stream",
     "text": [
      "14 14 14\n"
     ]
    }
   ],
   "source": [
    "print(len(weather), len(temp), len(play))"
   ]
  },
  {
   "cell_type": "code",
   "execution_count": 88,
   "metadata": {},
   "outputs": [
    {
     "data": {
      "text/plain": [
       "array([2, 2, 0, 1, 1, 1, 0, 2, 2, 1, 2, 0, 0, 1], dtype=int64)"
      ]
     },
     "execution_count": 88,
     "metadata": {},
     "output_type": "execute_result"
    }
   ],
   "source": [
    "# ubah tipe data string nya jadi angka\n",
    "# bikin encoder\n",
    "encoder = preprocessing.LabelEncoder()\n",
    "\n",
    "# convert data jadi angka\n",
    "weather_encoded = encoder.fit_transform(weather)\n",
    "weather_encoded"
   ]
  },
  {
   "cell_type": "code",
   "execution_count": 89,
   "metadata": {},
   "outputs": [
    {
     "data": {
      "text/plain": [
       "array(['Overcast', 'Rainy', 'Sunny'], dtype='<U8')"
      ]
     },
     "execution_count": 89,
     "metadata": {},
     "output_type": "execute_result"
    }
   ],
   "source": [
    "encoder.classes_"
   ]
  },
  {
   "cell_type": "markdown",
   "metadata": {},
   "source": [
    "Untuk data weather,\\\n",
    "0 = 'Overcast'\\\n",
    "1 = 'Rainy'\\\n",
    "2 = 'Sunny"
   ]
  },
  {
   "cell_type": "code",
   "execution_count": 91,
   "metadata": {},
   "outputs": [
    {
     "name": "stdout",
     "output_type": "stream",
     "text": [
      "[1 1 1 2 0 0 0 2 0 2 2 2 1 2]\n",
      "['Cool' 'Hot' 'Mild']\n"
     ]
    }
   ],
   "source": [
    "# bikin encoder\n",
    "encoder = preprocessing.LabelEncoder()\n",
    "\n",
    "# convert data jadi angka\n",
    "temp_encoded = encoder.fit_transform(temp)\n",
    "print(temp_encoded)\n",
    "\n",
    "print(encoder.classes_)"
   ]
  },
  {
   "cell_type": "markdown",
   "metadata": {},
   "source": [
    "Untuk data temp,\\\n",
    "0 = 'Cool'\\\n",
    "1 = 'Hot'\\\n",
    "2 = 'Mild'"
   ]
  },
  {
   "cell_type": "code",
   "execution_count": 92,
   "metadata": {},
   "outputs": [
    {
     "name": "stdout",
     "output_type": "stream",
     "text": [
      "[0 0 1 1 1 0 1 0 1 1 1 1 1 0]\n",
      "['No' 'Yes']\n"
     ]
    }
   ],
   "source": [
    "# bikin encoder\n",
    "encoder = preprocessing.LabelEncoder()\n",
    "\n",
    "# convert data jadi angka\n",
    "target = encoder.fit_transform(play)\n",
    "print(target)\n",
    "\n",
    "print(encoder.classes_)"
   ]
  },
  {
   "cell_type": "markdown",
   "metadata": {},
   "source": [
    "Untuk data target play,\\\n",
    "0 = 'No'\\\n",
    "1 = 'Yes'"
   ]
  },
  {
   "cell_type": "code",
   "execution_count": 93,
   "metadata": {},
   "outputs": [
    {
     "data": {
      "text/plain": [
       "[(2, 1),\n",
       " (2, 1),\n",
       " (0, 1),\n",
       " (1, 2),\n",
       " (1, 0),\n",
       " (1, 0),\n",
       " (0, 0),\n",
       " (2, 2),\n",
       " (2, 0),\n",
       " (1, 2),\n",
       " (2, 2),\n",
       " (0, 2),\n",
       " (0, 1),\n",
       " (1, 2)]"
      ]
     },
     "execution_count": 93,
     "metadata": {},
     "output_type": "execute_result"
    }
   ],
   "source": [
    "# gabungin semua fitur jadi 1 variable\n",
    "features = list(zip(weather_encoded, temp_encoded))\n",
    "features"
   ]
  },
  {
   "cell_type": "code",
   "execution_count": 95,
   "metadata": {},
   "outputs": [
    {
     "data": {
      "text/plain": [
       "0.7142857142857143"
      ]
     },
     "execution_count": 95,
     "metadata": {},
     "output_type": "execute_result"
    }
   ],
   "source": [
    "# bikin model\n",
    "model = KNeighborsClassifier(n_neighbors=3) # k=3\n",
    "\n",
    "# train model, fit\n",
    "model.fit(features, target)\n",
    "\n",
    "# bikin prediksi\n",
    "predicted = model.predict(features)\n",
    "\n",
    "# evaluasi akurasi model\n",
    "model.score(features, target)"
   ]
  },
  {
   "cell_type": "markdown",
   "metadata": {},
   "source": [
    "# KNN with multiple labels"
   ]
  },
  {
   "cell_type": "code",
   "execution_count": 101,
   "metadata": {},
   "outputs": [],
   "source": [
    "from sklearn import datasets\n",
    "\n",
    "wine = datasets.load_wine()"
   ]
  },
  {
   "cell_type": "code",
   "execution_count": 100,
   "metadata": {},
   "outputs": [
    {
     "name": "stdout",
     "output_type": "stream",
     "text": [
      "['alcohol', 'malic_acid', 'ash', 'alcalinity_of_ash', 'magnesium', 'total_phenols', 'flavanoids', 'nonflavanoid_phenols', 'proanthocyanins', 'color_intensity', 'hue', 'od280/od315_of_diluted_wines', 'proline'] 13\n"
     ]
    }
   ],
   "source": [
    "# ada berapa fitur\n",
    "print(wine.feature_names, len(wine.feature_names))"
   ]
  },
  {
   "cell_type": "code",
   "execution_count": 102,
   "metadata": {},
   "outputs": [
    {
     "name": "stdout",
     "output_type": "stream",
     "text": [
      "['class_0' 'class_1' 'class_2'] 3\n"
     ]
    }
   ],
   "source": [
    "# ada berapa label\n",
    "print(wine.target_names, len(wine.target_names))"
   ]
  },
  {
   "cell_type": "code",
   "execution_count": 103,
   "metadata": {},
   "outputs": [
    {
     "name": "stdout",
     "output_type": "stream",
     "text": [
      "178\n"
     ]
    }
   ],
   "source": [
    "# datanya\n",
    "print(len(wine.data))"
   ]
  },
  {
   "cell_type": "code",
   "execution_count": 104,
   "metadata": {},
   "outputs": [
    {
     "name": "stdout",
     "output_type": "stream",
     "text": [
      "178\n"
     ]
    }
   ],
   "source": [
    "print(len(wine.target))"
   ]
  },
  {
   "cell_type": "code",
   "execution_count": 110,
   "metadata": {},
   "outputs": [
    {
     "name": "stdout",
     "output_type": "stream",
     "text": [
      "(124, 13)\n",
      "(54, 13)\n"
     ]
    }
   ],
   "source": [
    "# split data jadi test data dan training data\n",
    "X_train, X_test, y_train, y_test = train_test_split(\n",
    "    wine.data, wine.target, test_size=0.3, random_state=0)\n",
    "# 30% test data, 70% training data\n",
    "\n",
    "print(X_train.shape)\n",
    "print(X_test.shape)"
   ]
  },
  {
   "cell_type": "code",
   "execution_count": 111,
   "metadata": {},
   "outputs": [],
   "source": [
    "# bikin model\n",
    "knn = KNeighborsClassifier(n_neighbors=5) #k = 5\n",
    "\n",
    "# training model (dari training data)\n",
    "knn.fit(X_train, y_train)\n",
    "\n",
    "# bikin prediksi (dari test data)\n",
    "y_pred = knn.predict(X_test)"
   ]
  },
  {
   "cell_type": "code",
   "execution_count": 112,
   "metadata": {},
   "outputs": [
    {
     "data": {
      "text/plain": [
       "0.7222222222222222"
      ]
     },
     "execution_count": 112,
     "metadata": {},
     "output_type": "execute_result"
    }
   ],
   "source": [
    "# evaluasi akurasi model\n",
    "knn.score(X_test, y_test)"
   ]
  },
  {
   "cell_type": "code",
   "execution_count": 114,
   "metadata": {},
   "outputs": [
    {
     "data": {
      "text/plain": [
       "0.7222222222222222"
      ]
     },
     "execution_count": 114,
     "metadata": {},
     "output_type": "execute_result"
    }
   ],
   "source": [
    "from sklearn.metrics import accuracy_score\n",
    "accuracy_score(y_test, y_pred)"
   ]
  },
  {
   "cell_type": "code",
   "execution_count": 116,
   "metadata": {},
   "outputs": [
    {
     "name": "stdout",
     "output_type": "stream",
     "text": [
      "              precision    recall  f1-score   support\n",
      "\n",
      "           0       0.80      0.84      0.82        19\n",
      "           1       0.77      0.77      0.77        22\n",
      "           2       0.50      0.46      0.48        13\n",
      "\n",
      "    accuracy                           0.72        54\n",
      "   macro avg       0.69      0.69      0.69        54\n",
      "weighted avg       0.72      0.72      0.72        54\n",
      "\n"
     ]
    }
   ],
   "source": [
    "print(classification_report(y_test, y_pred))"
   ]
  },
  {
   "cell_type": "code",
   "execution_count": 117,
   "metadata": {},
   "outputs": [
    {
     "data": {
      "text/plain": [
       "0.7777777777777778"
      ]
     },
     "execution_count": 117,
     "metadata": {},
     "output_type": "execute_result"
    }
   ],
   "source": [
    "# tuning - coba bikin model tapi parameter nya beda\n",
    "# misalnya jadi pakai 7 neighbor\n",
    "# bikin model\n",
    "knn = KNeighborsClassifier(n_neighbors=7) #k = 7\n",
    "\n",
    "# training model (dari training data)\n",
    "knn.fit(X_train, y_train)\n",
    "\n",
    "# bikin prediksi (dari test data)\n",
    "y_pred = knn.predict(X_test)\n",
    "\n",
    "# evaluasi akurasi model\n",
    "knn.score(X_test, y_test)"
   ]
  },
  {
   "cell_type": "code",
   "execution_count": 118,
   "metadata": {},
   "outputs": [],
   "source": [
    "# mau cobain dari k=1 sampai k=40  mana yang paling akurat\n",
    "score_akurasi = []\n",
    "\n",
    "for i in range(1,40):\n",
    "    knn = KNeighborsClassifier(n_neighbors=i)\n",
    "    knn.fit(X_train, y_train)\n",
    "    y_pred = knn.predict(X_test)\n",
    "    score = knn.score(X_test, y_test)\n",
    "    score_akurasi.append(score)"
   ]
  },
  {
   "cell_type": "code",
   "execution_count": 129,
   "metadata": {},
   "outputs": [
    {
     "data": {
      "text/plain": [
       "Text(0, 0.5, 'Akurasi model')"
      ]
     },
     "execution_count": 129,
     "metadata": {},
     "output_type": "execute_result"
    },
    {
     "data": {
      "image/png": "[encoded data removed]",
      "text/plain": [
       "<Figure size 864x432 with 1 Axes>"
      ]
     },
     "metadata": {
      "needs_background": "light"
     },
     "output_type": "display_data"
    }
   ],
   "source": [
    "# plot secara visual, \n",
    "# setiap jumlah neighbor (x-axis) yg beda\n",
    "# akurasinya (y-axis) berapa \n",
    "\n",
    "plt.figure(figsize=(12,6))\n",
    "plt.plot(range(1,40), \n",
    "         score_akurasi, \n",
    "         color=\"red\",\n",
    "         linestyle=\"dashed\",\n",
    "         marker=\"o\",\n",
    "         markerfacecolor=\"blue\")\n",
    "\n",
    "plt.title(\"Akurasi model per jumlah neighbor\")\n",
    "plt.xlabel(\"K - jumlah neighbor\")\n",
    "plt.ylabel(\"Akurasi model\")"
   ]
  },
  {
   "cell_type": "code",
   "execution_count": null,
   "metadata": {},
   "outputs": [],
   "source": []
  }
 ],
 "metadata": {
  "kernelspec": {
   "display_name": "Python 3",
   "language": "python",
   "name": "python3"
  },
  "language_info": {
   "codemirror_mode": {
    "name": "ipython",
    "version": 3
   },
   "file_extension": ".py",
   "mimetype": "text/x-python",
   "name": "python",
   "nbconvert_exporter": "python",
   "pygments_lexer": "ipython3",
   "version": "3.8.5"
  }
 },
 "nbformat": 4,
 "nbformat_minor": 4
}
