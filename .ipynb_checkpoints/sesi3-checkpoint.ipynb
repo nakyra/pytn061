{
 "cells": [
  {
   "cell_type": "markdown",
   "metadata": {},
   "source": [
    "# Function, Module, Package"
   ]
  },
  {
   "cell_type": "markdown",
   "metadata": {},
   "source": [
    "## definisi function"
   ]
  },
  {
   "cell_type": "code",
   "execution_count": 1,
   "metadata": {},
   "outputs": [],
   "source": [
    "def menyapa():\n",
    "    while True:\n",
    "        message = input(\"Ketik karakter: \").lower()\n",
    "        print(message)\n",
    "        if (message == 'stop'):\n",
    "            break;"
   ]
  },
  {
   "cell_type": "code",
   "execution_count": 2,
   "metadata": {},
   "outputs": [
    {
     "name": "stdin",
     "output_type": "stream",
     "text": [
      "Ketik karakter:  stop\n"
     ]
    },
    {
     "name": "stdout",
     "output_type": "stream",
     "text": [
      "stop\n"
     ]
    }
   ],
   "source": [
    "menyapa()"
   ]
  },
  {
   "cell_type": "code",
   "execution_count": 3,
   "metadata": {},
   "outputs": [
    {
     "name": "stdin",
     "output_type": "stream",
     "text": [
      "Ketik karakter:  stop\n"
     ]
    },
    {
     "name": "stdout",
     "output_type": "stream",
     "text": [
      "stop\n"
     ]
    }
   ],
   "source": [
    "menyapa()"
   ]
  },
  {
   "cell_type": "markdown",
   "metadata": {},
   "source": [
    "## parameter (argument) function"
   ]
  },
  {
   "cell_type": "code",
   "execution_count": 4,
   "metadata": {},
   "outputs": [],
   "source": [
    "def menyapaNama(nama):\n",
    "    while True:\n",
    "        message = input(\"Ketik karakter: \").lower()\n",
    "        print(message, nama)\n",
    "        if (message == 'stop'):\n",
    "            break;"
   ]
  },
  {
   "cell_type": "code",
   "execution_count": 5,
   "metadata": {},
   "outputs": [
    {
     "name": "stdin",
     "output_type": "stream",
     "text": [
      "Ketik karakter:  stop\n"
     ]
    },
    {
     "name": "stdout",
     "output_type": "stream",
     "text": [
      "stop andhika\n"
     ]
    }
   ],
   "source": [
    "menyapaNama(\"andhika\")"
   ]
  },
  {
   "cell_type": "code",
   "execution_count": 6,
   "metadata": {},
   "outputs": [],
   "source": [
    "def hello(nama, waktu):\n",
    "    print(\"selamat\", waktu, nama)"
   ]
  },
  {
   "cell_type": "code",
   "execution_count": 7,
   "metadata": {},
   "outputs": [
    {
     "name": "stdout",
     "output_type": "stream",
     "text": [
      "selamat malam andhika\n"
     ]
    }
   ],
   "source": [
    "hello(\"andhika\", \"malam\")"
   ]
  },
  {
   "cell_type": "code",
   "execution_count": 8,
   "metadata": {},
   "outputs": [
    {
     "name": "stdout",
     "output_type": "stream",
     "text": [
      "selamat siang vienna\n"
     ]
    }
   ],
   "source": [
    "hello(\"vienna\", \"siang\")"
   ]
  },
  {
   "cell_type": "code",
   "execution_count": 9,
   "metadata": {},
   "outputs": [
    {
     "ename": "TypeError",
     "evalue": "hello() missing 2 required positional arguments: 'nama' and 'waktu'",
     "output_type": "error",
     "traceback": [
      "\u001b[1;31m---------------------------------------------------------------------------\u001b[0m",
      "\u001b[1;31mTypeError\u001b[0m                                 Traceback (most recent call last)",
      "\u001b[1;32m<ipython-input-9-a75d7781aaeb>\u001b[0m in \u001b[0;36m<module>\u001b[1;34m\u001b[0m\n\u001b[1;32m----> 1\u001b[1;33m \u001b[0mhello\u001b[0m\u001b[1;33m(\u001b[0m\u001b[1;33m)\u001b[0m\u001b[1;33m\u001b[0m\u001b[1;33m\u001b[0m\u001b[0m\n\u001b[0m",
      "\u001b[1;31mTypeError\u001b[0m: hello() missing 2 required positional arguments: 'nama' and 'waktu'"
     ]
    }
   ],
   "source": [
    "hello()"
   ]
  },
  {
   "cell_type": "code",
   "execution_count": 10,
   "metadata": {},
   "outputs": [
    {
     "name": "stdout",
     "output_type": "stream",
     "text": [
      "selamat 2 1\n"
     ]
    }
   ],
   "source": [
    "hello(1,2)"
   ]
  },
  {
   "cell_type": "markdown",
   "metadata": {},
   "source": [
    "## return di sebuah function"
   ]
  },
  {
   "cell_type": "code",
   "execution_count": 11,
   "metadata": {},
   "outputs": [
    {
     "name": "stdout",
     "output_type": "stream",
     "text": [
      "selamat sore adi\n",
      "None\n"
     ]
    }
   ],
   "source": [
    "hasil = hello(\"adi\",\"sore\")\n",
    "\n",
    "print(hasil) #None"
   ]
  },
  {
   "cell_type": "code",
   "execution_count": 12,
   "metadata": {},
   "outputs": [],
   "source": [
    "def menulis(nama, waktu):\n",
    "    return \"selamat \" + waktu + \" \" + nama"
   ]
  },
  {
   "cell_type": "code",
   "execution_count": 13,
   "metadata": {},
   "outputs": [
    {
     "name": "stdout",
     "output_type": "stream",
     "text": [
      "selamat sore adi\n"
     ]
    }
   ],
   "source": [
    "hasil = menulis(\"adi\", \"sore\")\n",
    "\n",
    "print(hasil) #selamat sore adi"
   ]
  },
  {
   "cell_type": "code",
   "execution_count": 14,
   "metadata": {},
   "outputs": [],
   "source": [
    "def cekGanjilGenap(num):\n",
    "    if (num % 2 == 0):\n",
    "        return \"genap\"\n",
    "    else:\n",
    "        return \"ganjil\""
   ]
  },
  {
   "cell_type": "code",
   "execution_count": 15,
   "metadata": {},
   "outputs": [
    {
     "name": "stdout",
     "output_type": "stream",
     "text": [
      "ganjil\n"
     ]
    }
   ],
   "source": [
    "print(cekGanjilGenap(21))"
   ]
  },
  {
   "cell_type": "code",
   "execution_count": 16,
   "metadata": {},
   "outputs": [
    {
     "name": "stdout",
     "output_type": "stream",
     "text": [
      "kena tilang\n"
     ]
    }
   ],
   "source": [
    "hari_ini = \"genap\"\n",
    "if (hari_ini != cekGanjilGenap(1783)):\n",
    "    print(\"kena tilang\")"
   ]
  },
  {
   "cell_type": "code",
   "execution_count": 17,
   "metadata": {},
   "outputs": [
    {
     "data": {
      "text/plain": [
       "'a'"
      ]
     },
     "execution_count": 17,
     "metadata": {},
     "output_type": "execute_result"
    }
   ],
   "source": [
    "\"gan\"\n",
    "\"a\""
   ]
  },
  {
   "cell_type": "markdown",
   "metadata": {},
   "source": [
    "# Pass by Reference VS Pass by Value"
   ]
  },
  {
   "cell_type": "code",
   "execution_count": 18,
   "metadata": {},
   "outputs": [
    {
     "name": "stdout",
     "output_type": "stream",
     "text": [
      "20\n",
      "200\n",
      "10\n"
     ]
    }
   ],
   "source": [
    "a = 10\n",
    "b = a\n",
    "b = 100\n",
    "\n",
    "def perkalian(num1, num2):\n",
    "    num1 = 20\n",
    "    print(num1)\n",
    "    return num1 * num2\n",
    "\n",
    "hasil = perkalian(a,a)\n",
    "print(hasil)\n",
    "\n",
    "print(a) # pass by value, karena data di dalam a bertipe simple"
   ]
  },
  {
   "cell_type": "code",
   "execution_count": 19,
   "metadata": {},
   "outputs": [
    {
     "name": "stdout",
     "output_type": "stream",
     "text": [
      "['apel', 'pisang', 'jeruk']\n",
      "['apel', 'pisang', 'jeruk', 'duku']\n",
      "['apel', 'pisang', 'jeruk', 'duku']\n"
     ]
    }
   ],
   "source": [
    "list_buah = [\"apel\", \"pisang\", \"jeruk\"]\n",
    "\n",
    "def nambah(l, b):\n",
    "    print(l)\n",
    "    l.append(b)\n",
    "    print(l)\n",
    "    \n",
    "nambah(list_buah, \"duku\")\n",
    "\n",
    "print(list_buah) # pass by reference, karena l hanya \"menunjuk\" ke rumahnya list_buah tapi gk bikin rumah sendiri"
   ]
  },
  {
   "cell_type": "markdown",
   "metadata": {},
   "source": [
    "tipe data list, tuple, dan dictionary akan kena pass by reference. Jadi, saat data itu dipanggil,\n",
    "komputer bukannya bikin copyan data yang baru, dia malah me-referensi data awal."
   ]
  },
  {
   "cell_type": "code",
   "execution_count": 20,
   "metadata": {},
   "outputs": [
    {
     "name": "stdout",
     "output_type": "stream",
     "text": [
      "['apel', 'pisang', 'jeruk', 'nangka']\n",
      "['apel', 'pisang', 'jeruk', 'nangka']\n"
     ]
    }
   ],
   "source": [
    "list_buah = [\"apel\", \"pisang\", \"jeruk\"]\n",
    "list_baru = list_buah\n",
    "list_baru.append(\"nangka\")\n",
    "print(list_buah)\n",
    "print(list_baru)"
   ]
  },
  {
   "cell_type": "code",
   "execution_count": 21,
   "metadata": {},
   "outputs": [
    {
     "name": "stdout",
     "output_type": "stream",
     "text": [
      "['apel', 'pisang', 'jeruk']\n",
      "['apel', 'pisang', 'jeruk', 'duku']\n",
      "['apel', 'pisang', 'jeruk']\n"
     ]
    }
   ],
   "source": [
    "# teknik deep copy\n",
    "list_buah = [\"apel\", \"pisang\", \"jeruk\"]\n",
    "\n",
    "def nambah(l, b):\n",
    "    # l kita buat jadi sebuah deep copy\n",
    "    # untuk setiap item dalam list yang diberikan, kita copy ke list baru\n",
    "    l_baru = [] # rumah baru\n",
    "    for item in l:\n",
    "        l_baru.append(item)\n",
    "    print(l_baru)\n",
    "    l_baru.append(b)\n",
    "    print(l_baru)\n",
    "    \n",
    "nambah(list_buah, \"duku\")\n",
    "\n",
    "print(list_buah)"
   ]
  },
  {
   "cell_type": "markdown",
   "metadata": {},
   "source": [
    "## tipe tipe argument (parameter) function\n",
    "- required\n",
    "- keyword\n",
    "- default\n",
    "- variable length"
   ]
  },
  {
   "cell_type": "code",
   "execution_count": 22,
   "metadata": {},
   "outputs": [
    {
     "ename": "TypeError",
     "evalue": "hello() missing 2 required positional arguments: 'nama' and 'waktu'",
     "output_type": "error",
     "traceback": [
      "\u001b[1;31m---------------------------------------------------------------------------\u001b[0m",
      "\u001b[1;31mTypeError\u001b[0m                                 Traceback (most recent call last)",
      "\u001b[1;32m<ipython-input-22-88e2cd9d0eb0>\u001b[0m in \u001b[0;36m<module>\u001b[1;34m\u001b[0m\n\u001b[0;32m      3\u001b[0m     \u001b[0mprint\u001b[0m\u001b[1;33m(\u001b[0m\u001b[1;34m\"selamat\"\u001b[0m\u001b[1;33m,\u001b[0m \u001b[0mwaktu\u001b[0m\u001b[1;33m,\u001b[0m \u001b[0mnama\u001b[0m\u001b[1;33m)\u001b[0m\u001b[1;33m\u001b[0m\u001b[1;33m\u001b[0m\u001b[0m\n\u001b[0;32m      4\u001b[0m \u001b[1;33m\u001b[0m\u001b[0m\n\u001b[1;32m----> 5\u001b[1;33m \u001b[0mhello\u001b[0m\u001b[1;33m(\u001b[0m\u001b[1;33m)\u001b[0m \u001b[1;31m#kita panggil tapi tidak kasih argumentnya, dia akan error\u001b[0m\u001b[1;33m\u001b[0m\u001b[1;33m\u001b[0m\u001b[0m\n\u001b[0m",
      "\u001b[1;31mTypeError\u001b[0m: hello() missing 2 required positional arguments: 'nama' and 'waktu'"
     ]
    }
   ],
   "source": [
    "# required - harus ada\n",
    "def hello(nama, waktu):\n",
    "    print(\"selamat\", waktu, nama)\n",
    "    \n",
    "hello() #kita panggil tapi tidak kasih argumentnya, dia akan error"
   ]
  },
  {
   "cell_type": "code",
   "execution_count": 23,
   "metadata": {},
   "outputs": [
    {
     "name": "stdout",
     "output_type": "stream",
     "text": [
      "selamat pagi adi\n"
     ]
    }
   ],
   "source": [
    "# keyword - argumennya bisa kita kasih secara tidak urut\n",
    "def hello(nama, waktu):\n",
    "    print(\"selamat\", waktu, nama)\n",
    "    \n",
    "hello(waktu = \"pagi\", nama = \"adi\") #tidak harus diisi urut argumen nya hello(\"adi\", \"pagi\")"
   ]
  },
  {
   "cell_type": "code",
   "execution_count": 24,
   "metadata": {},
   "outputs": [
    {
     "name": "stdout",
     "output_type": "stream",
     "text": [
      "selamat sore hanin\n",
      "selamat malam helen\n",
      "selamat malam anda\n"
     ]
    }
   ],
   "source": [
    "# default - argumennya bisa kita isi secara default\n",
    "def hello(nama = \"anda\", waktu = \"malam\"):\n",
    "    print(\"selamat\", waktu, nama)\n",
    "    \n",
    "hello(\"hanin\", \"sore\")\n",
    "hello(\"helen\")\n",
    "hello()"
   ]
  },
  {
   "cell_type": "code",
   "execution_count": 25,
   "metadata": {},
   "outputs": [
    {
     "name": "stdout",
     "output_type": "stream",
     "text": [
      "('adi', 'budi', 'cindy', 'erika')\n",
      "selamat pagi adi\n",
      "selamat pagi budi\n",
      "selamat pagi cindy\n",
      "selamat pagi erika\n"
     ]
    }
   ],
   "source": [
    "# variable length - jumlah argumen bisa 0-sebanyaknya, jumlah nya terserah\n",
    "def hello(*nama, waktu = \"malam\"):\n",
    "    print(nama) # tipe data ini adalah sebuah tuple\n",
    "    for n in nama:\n",
    "        print(\"selamat\", waktu, n)\n",
    "        \n",
    "hello(\"adi\", \"budi\", \"cindy\", \"erika\", waktu = \"pagi\")"
   ]
  },
  {
   "cell_type": "markdown",
   "metadata": {},
   "source": [
    "## lambda function"
   ]
  },
  {
   "cell_type": "code",
   "execution_count": 26,
   "metadata": {},
   "outputs": [],
   "source": [
    "x = lambda a1, a2, a3: a1 + a2 + a3"
   ]
  },
  {
   "cell_type": "code",
   "execution_count": 27,
   "metadata": {},
   "outputs": [
    {
     "data": {
      "text/plain": [
       "12"
      ]
     },
     "execution_count": 27,
     "metadata": {},
     "output_type": "execute_result"
    }
   ],
   "source": [
    "x(3,4,5)"
   ]
  },
  {
   "cell_type": "code",
   "execution_count": 28,
   "metadata": {},
   "outputs": [
    {
     "data": {
      "text/plain": [
       "15"
      ]
     },
     "execution_count": 28,
     "metadata": {},
     "output_type": "execute_result"
    }
   ],
   "source": [
    "def a(n):\n",
    "    def b(m):\n",
    "        return m * n\n",
    "    return b(5)\n",
    "a(3)"
   ]
  },
  {
   "cell_type": "code",
   "execution_count": 29,
   "metadata": {},
   "outputs": [
    {
     "data": {
      "text/plain": [
       "15"
      ]
     },
     "execution_count": 29,
     "metadata": {},
     "output_type": "execute_result"
    }
   ],
   "source": [
    "def a(n):\n",
    "    return lambda m: m * n\n",
    "a(3)(5)"
   ]
  },
  {
   "cell_type": "markdown",
   "metadata": {},
   "source": [
    "## scope of variable\n",
    "cek file \"scope_variable.ipynb\""
   ]
  },
  {
   "cell_type": "markdown",
   "metadata": {},
   "source": [
    "# Modules\n",
    "di contoh kali ini, kita membuat file \"math.py\" yang berisi variable dan function"
   ]
  },
  {
   "cell_type": "code",
   "execution_count": 30,
   "metadata": {},
   "outputs": [
    {
     "ename": "ModuleNotFoundError",
     "evalue": "No module named 'matematik'",
     "output_type": "error",
     "traceback": [
      "\u001b[1;31m---------------------------------------------------------------------------\u001b[0m",
      "\u001b[1;31mModuleNotFoundError\u001b[0m                       Traceback (most recent call last)",
      "\u001b[1;32m<ipython-input-30-37b9a1b5fb57>\u001b[0m in \u001b[0;36m<module>\u001b[1;34m\u001b[0m\n\u001b[1;32m----> 1\u001b[1;33m \u001b[1;32mimport\u001b[0m \u001b[0mmatematik\u001b[0m\u001b[1;33m\u001b[0m\u001b[1;33m\u001b[0m\u001b[0m\n\u001b[0m",
      "\u001b[1;31mModuleNotFoundError\u001b[0m: No module named 'matematik'"
     ]
    }
   ],
   "source": [
    "import matematik"
   ]
  },
  {
   "cell_type": "code",
   "execution_count": 31,
   "metadata": {},
   "outputs": [
    {
     "ename": "NameError",
     "evalue": "name 'matematik' is not defined",
     "output_type": "error",
     "traceback": [
      "\u001b[1;31m---------------------------------------------------------------------------\u001b[0m",
      "\u001b[1;31mNameError\u001b[0m                                 Traceback (most recent call last)",
      "\u001b[1;32m<ipython-input-31-f92bbd953d06>\u001b[0m in \u001b[0;36m<module>\u001b[1;34m\u001b[0m\n\u001b[1;32m----> 1\u001b[1;33m \u001b[0mprint\u001b[0m\u001b[1;33m(\u001b[0m\u001b[0mmatematik\u001b[0m\u001b[1;33m.\u001b[0m\u001b[0mpi\u001b[0m\u001b[1;33m)\u001b[0m\u001b[1;33m\u001b[0m\u001b[1;33m\u001b[0m\u001b[0m\n\u001b[0m\u001b[0;32m      2\u001b[0m \u001b[0mprint\u001b[0m\u001b[1;33m(\u001b[0m\u001b[0mmatematik\u001b[0m\u001b[1;33m.\u001b[0m\u001b[0mgolden_ratio\u001b[0m\u001b[1;33m)\u001b[0m\u001b[1;33m\u001b[0m\u001b[1;33m\u001b[0m\u001b[0m\n",
      "\u001b[1;31mNameError\u001b[0m: name 'matematik' is not defined"
     ]
    }
   ],
   "source": [
    "print(matematik.pi)\n",
    "print(matematik.golden_ratio)"
   ]
  },
  {
   "cell_type": "code",
   "execution_count": null,
   "metadata": {},
   "outputs": [],
   "source": [
    "print(matematik.cekGenap(10))"
   ]
  },
  {
   "cell_type": "code",
   "execution_count": 1,
   "metadata": {},
   "outputs": [
    {
     "data": {
      "text/plain": [
       "['C:\\\\Users\\\\stefa\\\\hacktiv\\\\PYTN\\\\pytn061',\n",
       " 'C:\\\\Users\\\\stefa\\\\anaconda3\\\\python38.zip',\n",
       " 'C:\\\\Users\\\\stefa\\\\anaconda3\\\\DLLs',\n",
       " 'C:\\\\Users\\\\stefa\\\\anaconda3\\\\lib',\n",
       " 'C:\\\\Users\\\\stefa\\\\anaconda3',\n",
       " '',\n",
       " 'C:\\\\Users\\\\stefa\\\\anaconda3\\\\lib\\\\site-packages',\n",
       " 'C:\\\\Users\\\\stefa\\\\anaconda3\\\\lib\\\\site-packages\\\\win32',\n",
       " 'C:\\\\Users\\\\stefa\\\\anaconda3\\\\lib\\\\site-packages\\\\win32\\\\lib',\n",
       " 'C:\\\\Users\\\\stefa\\\\anaconda3\\\\lib\\\\site-packages\\\\Pythonwin',\n",
       " 'C:\\\\Users\\\\stefa\\\\anaconda3\\\\lib\\\\site-packages\\\\IPython\\\\extensions',\n",
       " 'C:\\\\Users\\\\stefa\\\\.ipython']"
      ]
     },
     "execution_count": 1,
     "metadata": {},
     "output_type": "execute_result"
    }
   ],
   "source": [
    "import sys\n",
    "sys.path"
   ]
  },
  {
   "cell_type": "code",
   "execution_count": 2,
   "metadata": {},
   "outputs": [
    {
     "data": {
      "text/plain": [
       "['C:\\\\Users\\\\stefa\\\\hacktiv\\\\PYTN\\\\pytn061',\n",
       " 'C:\\\\Users\\\\stefa\\\\anaconda3\\\\python38.zip',\n",
       " 'C:\\\\Users\\\\stefa\\\\anaconda3\\\\DLLs',\n",
       " 'C:\\\\Users\\\\stefa\\\\anaconda3\\\\lib',\n",
       " 'C:\\\\Users\\\\stefa\\\\anaconda3',\n",
       " '',\n",
       " 'C:\\\\Users\\\\stefa\\\\anaconda3\\\\lib\\\\site-packages',\n",
       " 'C:\\\\Users\\\\stefa\\\\anaconda3\\\\lib\\\\site-packages\\\\win32',\n",
       " 'C:\\\\Users\\\\stefa\\\\anaconda3\\\\lib\\\\site-packages\\\\win32\\\\lib',\n",
       " 'C:\\\\Users\\\\stefa\\\\anaconda3\\\\lib\\\\site-packages\\\\Pythonwin',\n",
       " 'C:\\\\Users\\\\stefa\\\\anaconda3\\\\lib\\\\site-packages\\\\IPython\\\\extensions',\n",
       " 'C:\\\\Users\\\\stefa\\\\.ipython',\n",
       " 'C:\\\\Users\\\\stefa\\\\Desktop\\\\mods']"
      ]
     },
     "execution_count": 2,
     "metadata": {},
     "output_type": "execute_result"
    }
   ],
   "source": [
    "sys.path.append(r'C:\\Users\\stefa\\Desktop\\mods')\n",
    "sys.path"
   ]
  },
  {
   "cell_type": "code",
   "execution_count": 39,
   "metadata": {},
   "outputs": [
    {
     "name": "stdout",
     "output_type": "stream",
     "text": [
      "3.14\n"
     ]
    }
   ],
   "source": [
    "import matematik\n",
    "print(matematik.pi)"
   ]
  },
  {
   "cell_type": "markdown",
   "metadata": {},
   "source": [
    "## cara cara import yang berbeda"
   ]
  },
  {
   "cell_type": "code",
   "execution_count": 40,
   "metadata": {},
   "outputs": [],
   "source": [
    "from matematik import pi, golden_ratio, nambah"
   ]
  },
  {
   "cell_type": "code",
   "execution_count": 41,
   "metadata": {},
   "outputs": [
    {
     "name": "stdout",
     "output_type": "stream",
     "text": [
      "3.14 1.618 15\n"
     ]
    }
   ],
   "source": [
    "print(pi, golden_ratio, nambah(5,10))"
   ]
  },
  {
   "cell_type": "code",
   "execution_count": 42,
   "metadata": {},
   "outputs": [],
   "source": [
    "from matematik import *"
   ]
  },
  {
   "cell_type": "code",
   "execution_count": 43,
   "metadata": {},
   "outputs": [
    {
     "data": {
      "text/plain": [
       "True"
      ]
     },
     "execution_count": 43,
     "metadata": {},
     "output_type": "execute_result"
    }
   ],
   "source": [
    "cekGenap(312)"
   ]
  },
  {
   "cell_type": "code",
   "execution_count": 44,
   "metadata": {},
   "outputs": [],
   "source": [
    "from matematik import cekGenap as evenNumber"
   ]
  },
  {
   "cell_type": "code",
   "execution_count": 45,
   "metadata": {},
   "outputs": [
    {
     "data": {
      "text/plain": [
       "True"
      ]
     },
     "execution_count": 45,
     "metadata": {},
     "output_type": "execute_result"
    }
   ],
   "source": [
    "evenNumber(124)"
   ]
  },
  {
   "cell_type": "code",
   "execution_count": 46,
   "metadata": {},
   "outputs": [],
   "source": [
    "import matematik as mtk"
   ]
  },
  {
   "cell_type": "code",
   "execution_count": 47,
   "metadata": {},
   "outputs": [
    {
     "name": "stdout",
     "output_type": "stream",
     "text": [
      "3.14\n"
     ]
    }
   ],
   "source": [
    "print(mtk.pi)"
   ]
  },
  {
   "cell_type": "code",
   "execution_count": 48,
   "metadata": {},
   "outputs": [
    {
     "data": {
      "text/plain": [
       "False"
      ]
     },
     "execution_count": 48,
     "metadata": {},
     "output_type": "execute_result"
    }
   ],
   "source": [
    "mtk.cekGenap(4365)"
   ]
  },
  {
   "cell_type": "code",
   "execution_count": 49,
   "metadata": {},
   "outputs": [
    {
     "data": {
      "text/plain": [
       "['In',\n",
       " 'Out',\n",
       " '_',\n",
       " '_17',\n",
       " '_27',\n",
       " '_28',\n",
       " '_29',\n",
       " '_37',\n",
       " '_38',\n",
       " '_43',\n",
       " '_45',\n",
       " '_48',\n",
       " '__',\n",
       " '___',\n",
       " '__builtin__',\n",
       " '__builtins__',\n",
       " '__doc__',\n",
       " '__loader__',\n",
       " '__name__',\n",
       " '__package__',\n",
       " '__spec__',\n",
       " '_dh',\n",
       " '_i',\n",
       " '_i1',\n",
       " '_i10',\n",
       " '_i11',\n",
       " '_i12',\n",
       " '_i13',\n",
       " '_i14',\n",
       " '_i15',\n",
       " '_i16',\n",
       " '_i17',\n",
       " '_i18',\n",
       " '_i19',\n",
       " '_i2',\n",
       " '_i20',\n",
       " '_i21',\n",
       " '_i22',\n",
       " '_i23',\n",
       " '_i24',\n",
       " '_i25',\n",
       " '_i26',\n",
       " '_i27',\n",
       " '_i28',\n",
       " '_i29',\n",
       " '_i3',\n",
       " '_i30',\n",
       " '_i31',\n",
       " '_i32',\n",
       " '_i33',\n",
       " '_i34',\n",
       " '_i35',\n",
       " '_i36',\n",
       " '_i37',\n",
       " '_i38',\n",
       " '_i39',\n",
       " '_i4',\n",
       " '_i40',\n",
       " '_i41',\n",
       " '_i42',\n",
       " '_i43',\n",
       " '_i44',\n",
       " '_i45',\n",
       " '_i46',\n",
       " '_i47',\n",
       " '_i48',\n",
       " '_i49',\n",
       " '_i5',\n",
       " '_i6',\n",
       " '_i7',\n",
       " '_i8',\n",
       " '_i9',\n",
       " '_ih',\n",
       " '_ii',\n",
       " '_iii',\n",
       " '_oh',\n",
       " 'a',\n",
       " 'b',\n",
       " 'cekGanjilGenap',\n",
       " 'cekGenap',\n",
       " 'evenNumber',\n",
       " 'exit',\n",
       " 'get_ipython',\n",
       " 'golden_ratio',\n",
       " 'hari_ini',\n",
       " 'hasil',\n",
       " 'hello',\n",
       " 'list_baru',\n",
       " 'list_buah',\n",
       " 'matematik',\n",
       " 'menulis',\n",
       " 'menyapa',\n",
       " 'menyapaNama',\n",
       " 'mtk',\n",
       " 'nambah',\n",
       " 'perkalian',\n",
       " 'pi',\n",
       " 'quit',\n",
       " 'sys',\n",
       " 'x']"
      ]
     },
     "execution_count": 49,
     "metadata": {},
     "output_type": "execute_result"
    }
   ],
   "source": [
    "# pengecekan nama yang sudah kita pakai di file ini,\n",
    "# termasuk nama module, variable, dan function\n",
    "dir() "
   ]
  },
  {
   "cell_type": "code",
   "execution_count": 3,
   "metadata": {},
   "outputs": [
    {
     "name": "stdout",
     "output_type": "stream",
     "text": [
      "halo, ini modul matematik.py\n",
      "lokasi modul ini ada di Dekstop > mods folder\n",
      "...\n"
     ]
    }
   ],
   "source": [
    "import matematik"
   ]
  },
  {
   "cell_type": "code",
   "execution_count": 3,
   "metadata": {},
   "outputs": [],
   "source": [
    "import matematik"
   ]
  },
  {
   "cell_type": "code",
   "execution_count": 5,
   "metadata": {},
   "outputs": [
    {
     "data": {
      "text/plain": [
       "<module 'matematik' from 'C:\\\\Users\\\\stefa\\\\Desktop\\\\mods\\\\matematik.py'>"
      ]
     },
     "execution_count": 5,
     "metadata": {},
     "output_type": "execute_result"
    }
   ],
   "source": [
    "import importlib\n",
    "importlib.reload(matematik) # cara lain reload import nya selain restart kernel"
   ]
  },
  {
   "cell_type": "markdown",
   "metadata": {},
   "source": [
    "# membuat dan mengimpor koleksi modul (package)"
   ]
  },
  {
   "cell_type": "code",
   "execution_count": 3,
   "metadata": {},
   "outputs": [],
   "source": [
    "import pkg.matematik"
   ]
  },
  {
   "cell_type": "code",
   "execution_count": 4,
   "metadata": {},
   "outputs": [
    {
     "data": {
      "text/plain": [
       "3.14"
      ]
     },
     "execution_count": 4,
     "metadata": {},
     "output_type": "execute_result"
    }
   ],
   "source": [
    "pkg.matematik.pi"
   ]
  },
  {
   "cell_type": "code",
   "execution_count": 5,
   "metadata": {},
   "outputs": [],
   "source": [
    "import pkg.menyapa as my"
   ]
  },
  {
   "cell_type": "code",
   "execution_count": 6,
   "metadata": {},
   "outputs": [
    {
     "data": {
      "text/plain": [
       "'andhika'"
      ]
     },
     "execution_count": 6,
     "metadata": {},
     "output_type": "execute_result"
    }
   ],
   "source": [
    "my.nama"
   ]
  },
  {
   "cell_type": "code",
   "execution_count": null,
   "metadata": {},
   "outputs": [],
   "source": []
  }
 ],
 "metadata": {
  "kernelspec": {
   "display_name": "Python 3",
   "language": "python",
   "name": "python3"
  },
  "language_info": {
   "codemirror_mode": {
    "name": "ipython",
    "version": 3
   },
   "file_extension": ".py",
   "mimetype": "text/x-python",
   "name": "python",
   "nbconvert_exporter": "python",
   "pygments_lexer": "ipython3",
   "version": "3.8.5"
  }
 },
 "nbformat": 4,
 "nbformat_minor": 4
}
