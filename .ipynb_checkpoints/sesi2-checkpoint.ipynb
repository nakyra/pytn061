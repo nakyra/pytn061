{
 "cells": [
  {
   "cell_type": "markdown",
   "metadata": {},
   "source": [
    "# Conditional Statement"
   ]
  },
  {
   "cell_type": "code",
   "execution_count": 2,
   "metadata": {},
   "outputs": [],
   "source": [
    "umur_a = 15\n",
    "\n",
    "if umur_a > 17:\n",
    "    print(\"a lebih dari 17 tahun\") #hanya jalan jika pertanyaannya True"
   ]
  },
  {
   "cell_type": "markdown",
   "metadata": {},
   "source": [
    "## truthy vs falsy"
   ]
  },
  {
   "cell_type": "markdown",
   "metadata": {},
   "source": [
    "semua yang bukan falsy itu dianggap true.\n",
    "\n",
    "falsy adalah:\n",
    "- angka 0 (float, int)\n",
    "- string kosong \"\" (text tapi tidak ada karakternya sama sekali, length 0)\n",
    "- boolean False\n",
    "- list kosong []\n",
    "- tuple kosong ()\n",
    "- dictionary kosong {}"
   ]
  },
  {
   "cell_type": "code",
   "execution_count": 9,
   "metadata": {},
   "outputs": [
    {
     "name": "stdout",
     "output_type": "stream",
     "text": [
      "x dianggap True\n",
      "y dianggap True\n"
     ]
    }
   ],
   "source": [
    "x = 12\n",
    "y = 12\n",
    "\n",
    "if x < y:\n",
    "    print(\"iya, x < y\")\n",
    "    \n",
    "if y < x:\n",
    "    print(\"y lebih kecil dari x\")\n",
    "    \n",
    "if x:\n",
    "    print(\"x dianggap True\")\n",
    "    \n",
    "if y:\n",
    "    print(\"y dianggap True\")"
   ]
  },
  {
   "cell_type": "code",
   "execution_count": 15,
   "metadata": {},
   "outputs": [
    {
     "name": "stdout",
     "output_type": "stream",
     "text": [
      "ada Hack di Hacktiv8\n",
      "ada a di b\n"
     ]
    }
   ],
   "source": [
    "a = 'aul'\n",
    "b = 'grault'\n",
    "\n",
    "if 'Hack' in 'Hacktiv8':\n",
    "    print('ada Hack di Hacktiv8')\n",
    "    \n",
    "if a in b:\n",
    "    print('ada a di b')\n",
    "    \n",
    "if b in a:\n",
    "    print('ada b di a')"
   ]
  },
  {
   "cell_type": "code",
   "execution_count": 19,
   "metadata": {},
   "outputs": [
    {
     "name": "stdout",
     "output_type": "stream",
     "text": [
      "ada 100 di list ini\n"
     ]
    }
   ],
   "source": [
    "if 100 in [100,50,90]:\n",
    "    print('ada 100 di list ini')\n",
    "    \n",
    "if 'lima' in ['seratus', 'lima puluh', 'sembilan puluh']:\n",
    "    print('ada seratus di list ini')"
   ]
  },
  {
   "cell_type": "code",
   "execution_count": 24,
   "metadata": {},
   "outputs": [
    {
     "name": "stdout",
     "output_type": "stream",
     "text": [
      "akhir dari code\n"
     ]
    }
   ],
   "source": [
    "cuaca_cerah = False\n",
    "\n",
    "if cuaca_cerah:\n",
    "    print(\"keluar rumah\")\n",
    "    print(\"pergi ke indomaret\")\n",
    "    print(\"beli snack\")\n",
    "print(\"akhir dari code\") #indentasi berbeda, sudah bukan milik if diatas"
   ]
  },
  {
   "cell_type": "code",
   "execution_count": 25,
   "metadata": {},
   "outputs": [
    {
     "ename": "IndentationError",
     "evalue": "unexpected indent (<ipython-input-25-7c58444f2c1c>, line 6)",
     "output_type": "error",
     "traceback": [
      "\u001b[1;36m  File \u001b[1;32m\"<ipython-input-25-7c58444f2c1c>\"\u001b[1;36m, line \u001b[1;32m6\u001b[0m\n\u001b[1;33m    print(\"beli snack\")\u001b[0m\n\u001b[1;37m    ^\u001b[0m\n\u001b[1;31mIndentationError\u001b[0m\u001b[1;31m:\u001b[0m unexpected indent\n"
     ]
    }
   ],
   "source": [
    "## contoh error indentasi\n",
    "cuaca_cerah = False\n",
    "\n",
    "if cuaca_cerah:\n",
    "    print(\"keluar rumah\")\n",
    "print(\"pergi ke indomaret\")\n",
    "    print(\"beli snack\") #statement tanpa kepala, indentasi error\n",
    "    print(\"akhir dari code\") "
   ]
  },
  {
   "cell_type": "code",
   "execution_count": 33,
   "metadata": {},
   "outputs": [
    {
     "name": "stdout",
     "output_type": "stream",
     "text": [
      "belum cukup umur\n",
      "selesai pengecekan\n"
     ]
    }
   ],
   "source": [
    "# nested if, ada if dalam if\n",
    "# ana umur 17, belum vaksin, tidak punya penyakit\n",
    "umur = 15\n",
    "sudah_vaksin = True\n",
    "punya_sakit = True\n",
    "\n",
    "if umur >= 17:\n",
    "    #disini baru kita cek apakah sudah pernah vaksin\n",
    "    if sudah_vaksin:\n",
    "        #cek untuk vaksin kedua\n",
    "        print(\"cek untuk vaksin ke2\")\n",
    "    else:\n",
    "        print(\"cek untuk vaksin pertama\")\n",
    "        \n",
    "    if punya_sakit:\n",
    "        #kalau punya sakit, tidak bisa vaksin\n",
    "        print(\"tidak boleh vaksin karena sedang sakit\")\n",
    "    else:\n",
    "        print(\"boleh vaksin\")\n",
    "else:\n",
    "    print(\"belum cukup umur\")\n",
    "        \n",
    "print(\"selesai pengecekan\")"
   ]
  },
  {
   "cell_type": "code",
   "execution_count": 38,
   "metadata": {},
   "outputs": [
    {
     "name": "stdout",
     "output_type": "stream",
     "text": [
      "salah input nilai\n"
     ]
    }
   ],
   "source": [
    "nilai = 10000\n",
    "\n",
    "if nilai > 100:\n",
    "    print(\"salah input nilai\")\n",
    "elif nilai > 80:\n",
    "    print(\"dapat A\")\n",
    "elif nilai > 60:\n",
    "    print(\"dapat B\")\n",
    "elif nilai > 40:\n",
    "    print(\"dapat C\")\n",
    "elif nilai > 20:\n",
    "    print(\"dapat D\")\n",
    "else:\n",
    "    print(\"dapat F\")"
   ]
  },
  {
   "cell_type": "code",
   "execution_count": 40,
   "metadata": {},
   "outputs": [
    {
     "name": "stdout",
     "output_type": "stream",
     "text": [
      "Halo Xander\n"
     ]
    }
   ],
   "source": [
    "nama = \"Xander\"\n",
    "print(\"Halo \" + nama)"
   ]
  },
  {
   "cell_type": "markdown",
   "metadata": {},
   "source": [
    "### one-line if"
   ]
  },
  {
   "cell_type": "code",
   "execution_count": 42,
   "metadata": {},
   "outputs": [
    {
     "name": "stdout",
     "output_type": "stream",
     "text": [
      "iya, x < y\n",
      "iya, x < y\n",
      "x\n",
      "lebih kecil\n",
      "dari y\n",
      "x\n",
      "lebih kecil\n",
      "dari y\n"
     ]
    }
   ],
   "source": [
    "x = 10\n",
    "y = 12\n",
    "\n",
    "if x < y:\n",
    "    print(\"iya, x < y\")\n",
    "    \n",
    "if x < y: print(\"iya, x < y\")\n",
    "    \n",
    "    \n",
    "if x < y:\n",
    "    print(\"x\")\n",
    "    print(\"lebih kecil\")\n",
    "    print(\"dari y\")\n",
    "\n",
    "if x < y: print(\"x\"); print(\"lebih kecil\"); print(\"dari y\") \n",
    "# tidak di rekomen karena jadi sulit dibaca"
   ]
  },
  {
   "cell_type": "code",
   "execution_count": 43,
   "metadata": {},
   "outputs": [
    {
     "name": "stdout",
     "output_type": "stream",
     "text": [
      "x\n",
      "lebih kecil\n",
      "dari y\n"
     ]
    }
   ],
   "source": [
    "if x < y:\n",
    "    print(\"x\")\n",
    "    print(\"lebih kecil\")\n",
    "    print(\"dari y\")\n",
    "elif x > y:\n",
    "    print(\"x\")\n",
    "    print(\"lebih besar\")\n",
    "    print(\"dari y\")\n",
    "else:\n",
    "    print(\"x\")\n",
    "    print(\"sama dengan\")\n",
    "    print(\"y\")"
   ]
  },
  {
   "cell_type": "code",
   "execution_count": 44,
   "metadata": {},
   "outputs": [
    {
     "name": "stdout",
     "output_type": "stream",
     "text": [
      "x\n",
      "lebih kecil\n",
      "dari y\n"
     ]
    }
   ],
   "source": [
    "if x < y: print(\"x\"); print(\"lebih kecil\"); print(\"dari y\")\n",
    "elif x > y: print(\"x\"); print(\"lebih besar\"); print(\"dari y\")\n",
    "else: print(\"x\"); print(\"sama dengan\"); print(\"y\")"
   ]
  },
  {
   "cell_type": "markdown",
   "metadata": {},
   "source": [
    "### ternary operator\n",
    "\n",
    "`<kalau true> if <pertanyaan> else <kalau false>`"
   ]
  },
  {
   "cell_type": "code",
   "execution_count": 47,
   "metadata": {},
   "outputs": [
    {
     "name": "stdout",
     "output_type": "stream",
     "text": [
      "lebih besar\n"
     ]
    }
   ],
   "source": [
    "x = 20\n",
    "y = 15\n",
    "print(\"x lebih kecil dari y\") if x < y else print(\"lebih besar\")"
   ]
  },
  {
   "cell_type": "code",
   "execution_count": 49,
   "metadata": {},
   "outputs": [
    {
     "name": "stdout",
     "output_type": "stream",
     "text": [
      "yang lebih besar adalah y\n"
     ]
    }
   ],
   "source": [
    "x = 10\n",
    "y = 15\n",
    "print(\"yang lebih besar adalah\", \"x\" if x > y else \"y\")"
   ]
  },
  {
   "cell_type": "markdown",
   "metadata": {},
   "source": [
    "### pass statement"
   ]
  },
  {
   "cell_type": "code",
   "execution_count": 58,
   "metadata": {},
   "outputs": [],
   "source": [
    "if x > y:\n",
    "    pass\n",
    "elif x == y:\n",
    "    pass\n",
    "else:\n",
    "    pass"
   ]
  },
  {
   "cell_type": "markdown",
   "metadata": {},
   "source": [
    "# While Loop\n",
    "\n",
    "selama kondisi masih True, statement nya di ulang"
   ]
  },
  {
   "cell_type": "code",
   "execution_count": 2,
   "metadata": {},
   "outputs": [
    {
     "name": "stdout",
     "output_type": "stream",
     "text": [
      "jemur baju\n"
     ]
    }
   ],
   "source": [
    "cuaca_cerah = True\n",
    "\n",
    "if cuaca_cerah:\n",
    "    print(\"jemur baju\")"
   ]
  },
  {
   "cell_type": "code",
   "execution_count": 3,
   "metadata": {},
   "outputs": [
    {
     "name": "stdout",
     "output_type": "stream",
     "text": [
      "jemur baju\n"
     ]
    }
   ],
   "source": [
    "while cuaca_cerah:\n",
    "    print(\"jemur baju\")\n",
    "    cuaca_cerah = False"
   ]
  },
  {
   "cell_type": "code",
   "execution_count": 25,
   "metadata": {},
   "outputs": [
    {
     "name": "stdout",
     "output_type": "stream",
     "text": [
      "ikut kelas 1\n",
      "ikut kelas 2\n",
      "ikut kelas 3\n",
      "ikut kelas 4\n",
      "ikut kelas 5\n",
      "ikut kelas 6\n",
      "ikut kelas 7\n",
      "ikut kelas 8\n",
      "ikut kelas 9\n",
      "ikut kelas 10\n",
      "ikut kelas 11\n",
      "ikut kelas 12\n",
      "ikut kelas 13\n",
      "ikut kelas 14\n",
      "ikut kelas 15\n",
      "ikut kelas 16\n",
      "tidak ikut kelas lagi\n",
      "di luar while loop\n"
     ]
    }
   ],
   "source": [
    "counter = 0\n",
    "\n",
    "while counter < 16:\n",
    "    #     counter = counter + 1\n",
    "    counter += 1\n",
    "    print(\"ikut kelas\", counter)\n",
    "else:\n",
    "    print(\"tidak ikut kelas lagi\")\n",
    "    \n",
    "print(\"di luar while loop\")"
   ]
  },
  {
   "cell_type": "markdown",
   "metadata": {},
   "source": [
    "## break and continue\n",
    "### juga \"else\" di while loop"
   ]
  },
  {
   "cell_type": "code",
   "execution_count": 26,
   "metadata": {},
   "outputs": [
    {
     "name": "stdout",
     "output_type": "stream",
     "text": [
      "ikut kelas 1\n",
      "ikut kelas 2\n",
      "ikut kelas 3\n",
      "ikut kelas 4\n",
      "ikut kelas 5\n",
      "ikut kelas 6\n",
      "ikut kelas 7\n",
      "selesai\n"
     ]
    }
   ],
   "source": [
    "counter = 0\n",
    "cuti = 8\n",
    "\n",
    "while counter < 16:\n",
    "    counter += 1\n",
    "    if counter == cuti: \n",
    "        break; # langsung keluar dari loop ini\n",
    "    print(\"ikut kelas\", counter)\n",
    "else:\n",
    "    print(\"tidak ikut kelas lagi\")\n",
    "    \n",
    "print(\"selesai\")"
   ]
  },
  {
   "cell_type": "code",
   "execution_count": 27,
   "metadata": {},
   "outputs": [
    {
     "name": "stdout",
     "output_type": "stream",
     "text": [
      "ikut kelas 1\n",
      "ikut kelas 2\n",
      "ikut kelas 3\n",
      "ikut kelas 4\n",
      "ikut kelas 5\n",
      "ikut kelas 6\n",
      "ikut kelas 7\n",
      "ikut kelas 9\n",
      "ikut kelas 10\n",
      "ikut kelas 11\n",
      "ikut kelas 12\n",
      "ikut kelas 13\n",
      "ikut kelas 14\n",
      "ikut kelas 15\n",
      "ikut kelas 16\n",
      "tidak ikut kelas lagi\n",
      "selesai\n"
     ]
    }
   ],
   "source": [
    "counter = 0\n",
    "skip = 8\n",
    "\n",
    "while counter < 16:\n",
    "    counter += 1\n",
    "    if counter == skip:\n",
    "        continue; # skip 1 kelas aja\n",
    "    print(\"ikut kelas\", counter)\n",
    "else:\n",
    "    print(\"tidak ikut kelas lagi\")\n",
    "    \n",
    "print(\"selesai\")"
   ]
  },
  {
   "cell_type": "code",
   "execution_count": null,
   "metadata": {},
   "outputs": [],
   "source": []
  }
 ],
 "metadata": {
  "kernelspec": {
   "display_name": "Python 3",
   "language": "python",
   "name": "python3"
  },
  "language_info": {
   "codemirror_mode": {
    "name": "ipython",
    "version": 3
   },
   "file_extension": ".py",
   "mimetype": "text/x-python",
   "name": "python",
   "nbconvert_exporter": "python",
   "pygments_lexer": "ipython3",
   "version": "3.8.5"
  }
 },
 "nbformat": 4,
 "nbformat_minor": 4
}
